{
 "cells": [
  {
   "cell_type": "code",
   "execution_count": 1,
   "id": "ee46c0e0",
   "metadata": {},
   "outputs": [],
   "source": [
    "import requests\n",
    "import json\n",
    "import pandas as pd\n",
    "import xmltodict\n",
    "from lxml.html import fromstring\n",
    "import numpy as np\n",
    "from datetime import datetime"
   ]
  },
  {
   "cell_type": "code",
   "execution_count": 2,
   "id": "e2a348c7",
   "metadata": {},
   "outputs": [],
   "source": [
    "start_time = datetime.now()"
   ]
  },
  {
   "cell_type": "markdown",
   "id": "5278c5d9",
   "metadata": {},
   "source": [
    "# Read the excel file"
   ]
  },
  {
   "cell_type": "code",
   "execution_count": 3,
   "id": "df863349",
   "metadata": {},
   "outputs": [
    {
     "data": {
      "text/plain": [
       "array([['hypertension']], dtype=object)"
      ]
     },
     "execution_count": 3,
     "metadata": {},
     "output_type": "execute_result"
    }
   ],
   "source": [
    "df = pd.read_excel('Disease test set.xlsx')\n",
    "Disease = df[[\"Disease from model\"]].to_numpy() \n",
    "Disease"
   ]
  },
  {
   "cell_type": "markdown",
   "id": "0c72e2e3",
   "metadata": {},
   "source": [
    "# Declare the different Sources"
   ]
  },
  {
   "cell_type": "code",
   "execution_count": 4,
   "id": "3214308e",
   "metadata": {},
   "outputs": [],
   "source": [
    "source = n = np.array(['SNOMEDCT_US','MSH','OMIM','MDR'])"
   ]
  },
  {
   "cell_type": "markdown",
   "id": "9a62bd18",
   "metadata": {},
   "source": [
    "# Save the API Key and get the tgt"
   ]
  },
  {
   "cell_type": "code",
   "execution_count": 5,
   "id": "b26c50e1",
   "metadata": {},
   "outputs": [],
   "source": [
    "api_key = 'b97fa897-104d-4139-a516-47d8c31dbfee'\n",
    "uri=\"https://utslogin.nlm.nih.gov\""
   ]
  },
  {
   "cell_type": "code",
   "execution_count": 6,
   "id": "e3c1cca2",
   "metadata": {},
   "outputs": [],
   "source": [
    "h = {\"Content-type\": \"application/x-www-form-urlencoded\", \"Accept\": \"text/plain\", \"User-Agent\":\"python\" }\n",
    "params = {'apikey': api_key}\n",
    "auth_endpoint = \"/cas/v1/api-key\"\n",
    "r = requests.post(uri+auth_endpoint,data=params,headers=h)\n",
    "response = fromstring(r.text)\n",
    "tgt = response.xpath('//form/@action')[0]"
   ]
  },
  {
   "cell_type": "markdown",
   "id": "3dbab98e",
   "metadata": {},
   "source": [
    "# Get Disease Codes from UMLS"
   ]
  },
  {
   "cell_type": "code",
   "execution_count": 7,
   "id": "80be101a",
   "metadata": {},
   "outputs": [],
   "source": [
    "def get_UMLS_codes(tgt,Disease):\n",
    "    synonyms_list = np.array([])\n",
    "    ui_list = np.array([])\n",
    "    source_list = np.array([])\n",
    "    disease_list = np.array([])\n",
    "    \n",
    "    for source_name in source:\n",
    "        for disease_name in Disease:\n",
    "              \n",
    "            service=\"http://umlsks.nlm.nih.gov\"\n",
    "            params = {'service': service}\n",
    "            h = {\"Content-type\": \"application/x-www-form-urlencoded\", \"Accept\": \"text/plain\", \"User-Agent\":\"python\" }\n",
    "            r = requests.post(tgt,data=params,headers=h)\n",
    "            st = r.text\n",
    "            \n",
    "            base_url = 'https://uts-ws.nlm.nih.gov/rest/search/current?string='+str(disease_name)+'&pageNumber=1&sabs='+source_name+'&returnIdType=sourceUi&sinputType=atom&includeObsolete=false&ticket='+st\n",
    "\n",
    "            r = requests.get(base_url)\n",
    "            data = r.json()\n",
    "            jtopy=json.dumps(data)\n",
    "            dict_json=json.loads(jtopy)\n",
    "            n = len(dict_json['result']['results'])\n",
    "            i = 0\n",
    "\n",
    "\n",
    "            while (i < n):\n",
    "                Synonyms  = str(dict_json['result']['results'][i]['name'])\n",
    "                ui = str(dict_json['result']['results'][i]['ui'])\n",
    "                synonyms_list = np.append(synonyms_list,Synonyms)\n",
    "                ui_list = np.append(ui_list,str(ui))\n",
    "                source_list = np.append(source_list,source_name)\n",
    "                disease_list = np.append(disease_list,disease_name)\n",
    "                i+=1\n",
    "\n",
    "\n",
    "            \n",
    "    Final_Array = np.array([source_list,disease_list,ui_list,synonyms_list])\n",
    "    return Final_Array\n",
    "    \n",
    "            "
   ]
  },
  {
   "cell_type": "markdown",
   "id": "0792a83d",
   "metadata": {},
   "source": [
    "# Get Parent Information"
   ]
  },
  {
   "cell_type": "code",
   "execution_count": 8,
   "id": "be984507",
   "metadata": {},
   "outputs": [],
   "source": [
    "def get_UMLS_Parents(tgt,source,child_ui):\n",
    "    \n",
    "    service=\"http://umlsks.nlm.nih.gov\"\n",
    "    params = {'service': service}\n",
    "    h = {\"Content-type\": \"application/x-www-form-urlencoded\", \"Accept\": \"text/plain\", \"User-Agent\":\"python\" }\n",
    "    r = requests.post(tgt,data=params,headers=h)\n",
    "    st = r.text\n",
    "    base_url = 'https://uts-ws.nlm.nih.gov/rest/content/current/source/'+source+'/'+child_ui+'/parents?ticket='+st\n",
    "    r = requests.get(base_url)\n",
    "    data = r.json()\n",
    "    jtopy=json.dumps(data)\n",
    "    dict_json=json.loads(jtopy)\n",
    "    n = len(dict_json['result'])\n",
    "    i = 0 \n",
    "    \n",
    "    parents_list = np.array([])\n",
    "    ui_list = np.array([])\n",
    "    child_list= np.array([])\n",
    "    source_list= np.array([])\n",
    "\n",
    "    while (i < n ):\n",
    "        parents = dict_json['result'][i]['name']\n",
    "        ui = dict_json['result'][i]['ui']\n",
    "        \n",
    "        source_list = np.append(source_list,source)\n",
    "        parents_list = np.append(parents_list,parents)\n",
    "        ui_list = np.append(ui_list,ui)\n",
    "        child_list = np.append(child_list,child_ui)\n",
    "        i+=1\n",
    "    Final_Array = np.array([source_list,child_list,ui_list,parents_list])\n",
    "    \n",
    "    return Final_Array\n",
    "    "
   ]
  },
  {
   "cell_type": "markdown",
   "id": "8e959017",
   "metadata": {},
   "source": [
    "# Iterate through child's list"
   ]
  },
  {
   "cell_type": "code",
   "execution_count": 9,
   "id": "bf2a9ff1",
   "metadata": {},
   "outputs": [],
   "source": [
    "def itertate_child(tgt,child):\n",
    "    i = 0\n",
    "    temp_parent = np.array([])\n",
    "    parent = np.array([])\n",
    "\n",
    "    while ( i < len(child[0])):\n",
    "\n",
    "        try:\n",
    "            temp_parent = get_UMLS_Parents(tgt,child[0][i],child[2][i])\n",
    "            temp_parent = temp_parent.reshape((4, -1))\n",
    "            parent = parent.reshape((4, -1))\n",
    "            parent= np.concatenate((parent,temp_parent),axis=1) \n",
    "\n",
    "        except:\n",
    "            temp_parent=np.array([child[0][i],child[2][i],'None','None'])\n",
    "            temp_parent = temp_parent.reshape((4,-1))\n",
    "            parent = parent.reshape((4,-1))\n",
    "            parent= np.concatenate((parent,temp_parent),axis=1) \n",
    "\n",
    "        i+=1\n",
    "    return parent\n"
   ]
  },
  {
   "cell_type": "code",
   "execution_count": 87,
   "id": "17cda1b5",
   "metadata": {},
   "outputs": [
    {
     "data": {
      "text/html": [
       "<div>\n",
       "<style scoped>\n",
       "    .dataframe tbody tr th:only-of-type {\n",
       "        vertical-align: middle;\n",
       "    }\n",
       "\n",
       "    .dataframe tbody tr th {\n",
       "        vertical-align: top;\n",
       "    }\n",
       "\n",
       "    .dataframe thead th {\n",
       "        text-align: right;\n",
       "    }\n",
       "</style>\n",
       "<table border=\"1\" class=\"dataframe\">\n",
       "  <thead>\n",
       "    <tr style=\"text-align: right;\">\n",
       "      <th></th>\n",
       "      <th>Source</th>\n",
       "      <th>Disease</th>\n",
       "      <th>UID</th>\n",
       "      <th>Synonyms</th>\n",
       "    </tr>\n",
       "  </thead>\n",
       "  <tbody>\n",
       "    <tr>\n",
       "      <th>0</th>\n",
       "      <td>SNOMEDCT_US</td>\n",
       "      <td>hypertension</td>\n",
       "      <td>34742003</td>\n",
       "      <td>Portal hypertension</td>\n",
       "    </tr>\n",
       "    <tr>\n",
       "      <th>1</th>\n",
       "      <td>SNOMEDCT_US</td>\n",
       "      <td>hypertension</td>\n",
       "      <td>70995007</td>\n",
       "      <td>Pulmonary hypertension</td>\n",
       "    </tr>\n",
       "    <tr>\n",
       "      <th>2</th>\n",
       "      <td>SNOMEDCT_US</td>\n",
       "      <td>hypertension</td>\n",
       "      <td>59621000</td>\n",
       "      <td>Essential hypertension</td>\n",
       "    </tr>\n",
       "    <tr>\n",
       "      <th>3</th>\n",
       "      <td>SNOMEDCT_US</td>\n",
       "      <td>hypertension</td>\n",
       "      <td>271719001</td>\n",
       "      <td>Raised intracranial pressure</td>\n",
       "    </tr>\n",
       "    <tr>\n",
       "      <th>4</th>\n",
       "      <td>SNOMEDCT_US</td>\n",
       "      <td>hypertension</td>\n",
       "      <td>123799005</td>\n",
       "      <td>Renovascular hypertension</td>\n",
       "    </tr>\n",
       "  </tbody>\n",
       "</table>\n",
       "</div>"
      ],
      "text/plain": [
       "        Source       Disease        UID                      Synonyms\n",
       "0  SNOMEDCT_US  hypertension   34742003           Portal hypertension\n",
       "1  SNOMEDCT_US  hypertension   70995007        Pulmonary hypertension\n",
       "2  SNOMEDCT_US  hypertension   59621000        Essential hypertension\n",
       "3  SNOMEDCT_US  hypertension  271719001  Raised intracranial pressure\n",
       "4  SNOMEDCT_US  hypertension  123799005     Renovascular hypertension"
      ]
     },
     "execution_count": 87,
     "metadata": {},
     "output_type": "execute_result"
    }
   ],
   "source": [
    "synonyms = get_UMLS_codes(tgt,Disease)\n",
    "source_df = pd.DataFrame(list(zip(synonyms[0],synonyms[1],synonyms[2],synonyms[3])))\n",
    "source_df =source_df.rename(columns={ source_df.columns[0]: \"Source\" ,source_df.columns[1]: \"Disease\" , source_df.columns[2]: \"UID\" , source_df.columns[3]: \"Synonyms\"})\n",
    "source_df = source_df.drop_duplicates(subset=['Source','Disease','UID','Synonyms'], keep='first')\n",
    "source_df.head()"
   ]
  },
  {
   "cell_type": "code",
   "execution_count": 60,
   "id": "21ebf050",
   "metadata": {},
   "outputs": [
    {
     "data": {
      "text/plain": [
       "100"
      ]
     },
     "execution_count": 60,
     "metadata": {},
     "output_type": "execute_result"
    }
   ],
   "source": [
    "#Total Number of rows from Synonyms Table\n",
    "len(source_df)"
   ]
  },
  {
   "cell_type": "markdown",
   "id": "9bd925ab",
   "metadata": {},
   "source": [
    "# Get Parents 1 Information"
   ]
  },
  {
   "cell_type": "code",
   "execution_count": 61,
   "id": "5d89b426",
   "metadata": {},
   "outputs": [
    {
     "data": {
      "text/html": [
       "<div>\n",
       "<style scoped>\n",
       "    .dataframe tbody tr th:only-of-type {\n",
       "        vertical-align: middle;\n",
       "    }\n",
       "\n",
       "    .dataframe tbody tr th {\n",
       "        vertical-align: top;\n",
       "    }\n",
       "\n",
       "    .dataframe thead th {\n",
       "        text-align: right;\n",
       "    }\n",
       "</style>\n",
       "<table border=\"1\" class=\"dataframe\">\n",
       "  <thead>\n",
       "    <tr style=\"text-align: right;\">\n",
       "      <th></th>\n",
       "      <th>Source</th>\n",
       "      <th>Child_UI</th>\n",
       "      <th>Parent1_UI</th>\n",
       "      <th>Parent1</th>\n",
       "    </tr>\n",
       "  </thead>\n",
       "  <tbody>\n",
       "    <tr>\n",
       "      <th>0</th>\n",
       "      <td>SNOMEDCT_US</td>\n",
       "      <td>34742003</td>\n",
       "      <td>234072000</td>\n",
       "      <td>Venous hypertension</td>\n",
       "    </tr>\n",
       "    <tr>\n",
       "      <th>1</th>\n",
       "      <td>SNOMEDCT_US</td>\n",
       "      <td>34742003</td>\n",
       "      <td>128056006</td>\n",
       "      <td>Disorder of portal venous system</td>\n",
       "    </tr>\n",
       "    <tr>\n",
       "      <th>2</th>\n",
       "      <td>SNOMEDCT_US</td>\n",
       "      <td>70995007</td>\n",
       "      <td>39785005</td>\n",
       "      <td>Disorder of pulmonary circulation</td>\n",
       "    </tr>\n",
       "    <tr>\n",
       "      <th>3</th>\n",
       "      <td>SNOMEDCT_US</td>\n",
       "      <td>59621000</td>\n",
       "      <td>38341003</td>\n",
       "      <td>Hypertensive disorder</td>\n",
       "    </tr>\n",
       "    <tr>\n",
       "      <th>4</th>\n",
       "      <td>SNOMEDCT_US</td>\n",
       "      <td>271719001</td>\n",
       "      <td>299732003</td>\n",
       "      <td>Finding of intracranial pressure</td>\n",
       "    </tr>\n",
       "  </tbody>\n",
       "</table>\n",
       "</div>"
      ],
      "text/plain": [
       "        Source   Child_UI Parent1_UI                            Parent1\n",
       "0  SNOMEDCT_US   34742003  234072000                Venous hypertension\n",
       "1  SNOMEDCT_US   34742003  128056006   Disorder of portal venous system\n",
       "2  SNOMEDCT_US   70995007   39785005  Disorder of pulmonary circulation\n",
       "3  SNOMEDCT_US   59621000   38341003              Hypertensive disorder\n",
       "4  SNOMEDCT_US  271719001  299732003   Finding of intracranial pressure"
      ]
     },
     "execution_count": 61,
     "metadata": {},
     "output_type": "execute_result"
    }
   ],
   "source": [
    "p1 = itertate_child(tgt,synonyms)\n",
    "p1_df = pd.DataFrame(list(zip(p1[0],p1[1],p1[2],p1[3])))\n",
    "p1_df=p1_df.rename(columns={ p1_df.columns[0]: \"Source\" ,p1_df.columns[1]: \"Child_UI\" , p1_df.columns[2]: \"Parent1_UI\" , p1_df.columns[3]: \"Parent1\"})\n",
    "p1_df.head()"
   ]
  },
  {
   "cell_type": "code",
   "execution_count": 62,
   "id": "bab4e9c7",
   "metadata": {},
   "outputs": [
    {
     "name": "stdout",
     "output_type": "stream",
     "text": [
      "123\n",
      "123\n"
     ]
    }
   ],
   "source": [
    "print(len(p1_df))\n",
    "p1_df = p1_df.drop_duplicates(subset=['Source','Child_UI','Parent1_UI','Parent1'], keep='first')\n",
    "print(len(p1_df))"
   ]
  },
  {
   "cell_type": "code",
   "execution_count": 88,
   "id": "f1dc667a",
   "metadata": {},
   "outputs": [
    {
     "data": {
      "text/html": [
       "<div>\n",
       "<style scoped>\n",
       "    .dataframe tbody tr th:only-of-type {\n",
       "        vertical-align: middle;\n",
       "    }\n",
       "\n",
       "    .dataframe tbody tr th {\n",
       "        vertical-align: top;\n",
       "    }\n",
       "\n",
       "    .dataframe thead th {\n",
       "        text-align: right;\n",
       "    }\n",
       "</style>\n",
       "<table border=\"1\" class=\"dataframe\">\n",
       "  <thead>\n",
       "    <tr style=\"text-align: right;\">\n",
       "      <th></th>\n",
       "      <th>Source</th>\n",
       "      <th>Disease</th>\n",
       "      <th>UID</th>\n",
       "      <th>Synonyms</th>\n",
       "      <th>Parent1_UI</th>\n",
       "      <th>Parent1</th>\n",
       "    </tr>\n",
       "  </thead>\n",
       "  <tbody>\n",
       "    <tr>\n",
       "      <th>0</th>\n",
       "      <td>SNOMEDCT_US</td>\n",
       "      <td>hypertension</td>\n",
       "      <td>34742003</td>\n",
       "      <td>Portal hypertension</td>\n",
       "      <td>234072000</td>\n",
       "      <td>Venous hypertension</td>\n",
       "    </tr>\n",
       "    <tr>\n",
       "      <th>1</th>\n",
       "      <td>SNOMEDCT_US</td>\n",
       "      <td>hypertension</td>\n",
       "      <td>34742003</td>\n",
       "      <td>Portal hypertension</td>\n",
       "      <td>128056006</td>\n",
       "      <td>Disorder of portal venous system</td>\n",
       "    </tr>\n",
       "    <tr>\n",
       "      <th>2</th>\n",
       "      <td>SNOMEDCT_US</td>\n",
       "      <td>hypertension</td>\n",
       "      <td>70995007</td>\n",
       "      <td>Pulmonary hypertension</td>\n",
       "      <td>39785005</td>\n",
       "      <td>Disorder of pulmonary circulation</td>\n",
       "    </tr>\n",
       "    <tr>\n",
       "      <th>3</th>\n",
       "      <td>SNOMEDCT_US</td>\n",
       "      <td>hypertension</td>\n",
       "      <td>59621000</td>\n",
       "      <td>Essential hypertension</td>\n",
       "      <td>38341003</td>\n",
       "      <td>Hypertensive disorder</td>\n",
       "    </tr>\n",
       "    <tr>\n",
       "      <th>4</th>\n",
       "      <td>SNOMEDCT_US</td>\n",
       "      <td>hypertension</td>\n",
       "      <td>271719001</td>\n",
       "      <td>Raised intracranial pressure</td>\n",
       "      <td>299732003</td>\n",
       "      <td>Finding of intracranial pressure</td>\n",
       "    </tr>\n",
       "  </tbody>\n",
       "</table>\n",
       "</div>"
      ],
      "text/plain": [
       "        Source       Disease        UID                      Synonyms  \\\n",
       "0  SNOMEDCT_US  hypertension   34742003           Portal hypertension   \n",
       "1  SNOMEDCT_US  hypertension   34742003           Portal hypertension   \n",
       "2  SNOMEDCT_US  hypertension   70995007        Pulmonary hypertension   \n",
       "3  SNOMEDCT_US  hypertension   59621000        Essential hypertension   \n",
       "4  SNOMEDCT_US  hypertension  271719001  Raised intracranial pressure   \n",
       "\n",
       "  Parent1_UI                            Parent1  \n",
       "0  234072000                Venous hypertension  \n",
       "1  128056006   Disorder of portal venous system  \n",
       "2   39785005  Disorder of pulmonary circulation  \n",
       "3   38341003              Hypertensive disorder  \n",
       "4  299732003   Finding of intracranial pressure  "
      ]
     },
     "execution_count": 88,
     "metadata": {},
     "output_type": "execute_result"
    }
   ],
   "source": [
    "source_df = pd.merge(source_df, p1_df, left_on=['Source','UID'], right_on=['Source','Child_UI'],how='left')\n",
    "source_df = source_df.drop(['Child_UI'], axis = 1)\n",
    "source_df.head()"
   ]
  },
  {
   "cell_type": "markdown",
   "id": "1b24face",
   "metadata": {},
   "source": [
    "# Get Parents 2 Information"
   ]
  },
  {
   "cell_type": "code",
   "execution_count": 64,
   "id": "c563fcd7",
   "metadata": {},
   "outputs": [
    {
     "data": {
      "text/html": [
       "<div>\n",
       "<style scoped>\n",
       "    .dataframe tbody tr th:only-of-type {\n",
       "        vertical-align: middle;\n",
       "    }\n",
       "\n",
       "    .dataframe tbody tr th {\n",
       "        vertical-align: top;\n",
       "    }\n",
       "\n",
       "    .dataframe thead th {\n",
       "        text-align: right;\n",
       "    }\n",
       "</style>\n",
       "<table border=\"1\" class=\"dataframe\">\n",
       "  <thead>\n",
       "    <tr style=\"text-align: right;\">\n",
       "      <th></th>\n",
       "      <th>Source</th>\n",
       "      <th>Child_UI</th>\n",
       "      <th>Parent2_UI</th>\n",
       "      <th>Parent2</th>\n",
       "    </tr>\n",
       "  </thead>\n",
       "  <tbody>\n",
       "    <tr>\n",
       "      <th>0</th>\n",
       "      <td>SNOMEDCT_US</td>\n",
       "      <td>234072000</td>\n",
       "      <td>90507008</td>\n",
       "      <td>Disorder of vein</td>\n",
       "    </tr>\n",
       "    <tr>\n",
       "      <th>1</th>\n",
       "      <td>SNOMEDCT_US</td>\n",
       "      <td>128056006</td>\n",
       "      <td>128052008</td>\n",
       "      <td>Vascular disease of abdomen</td>\n",
       "    </tr>\n",
       "    <tr>\n",
       "      <th>2</th>\n",
       "      <td>SNOMEDCT_US</td>\n",
       "      <td>128056006</td>\n",
       "      <td>90507008</td>\n",
       "      <td>Disorder of vein</td>\n",
       "    </tr>\n",
       "    <tr>\n",
       "      <th>3</th>\n",
       "      <td>SNOMEDCT_US</td>\n",
       "      <td>39785005</td>\n",
       "      <td>373434004</td>\n",
       "      <td>Disorder of blood vessels of thorax</td>\n",
       "    </tr>\n",
       "    <tr>\n",
       "      <th>4</th>\n",
       "      <td>SNOMEDCT_US</td>\n",
       "      <td>38341003</td>\n",
       "      <td>366157005</td>\n",
       "      <td>Cardiovascular measurement - finding</td>\n",
       "    </tr>\n",
       "  </tbody>\n",
       "</table>\n",
       "</div>"
      ],
      "text/plain": [
       "        Source   Child_UI Parent2_UI                               Parent2\n",
       "0  SNOMEDCT_US  234072000   90507008                      Disorder of vein\n",
       "1  SNOMEDCT_US  128056006  128052008           Vascular disease of abdomen\n",
       "2  SNOMEDCT_US  128056006   90507008                      Disorder of vein\n",
       "3  SNOMEDCT_US   39785005  373434004   Disorder of blood vessels of thorax\n",
       "4  SNOMEDCT_US   38341003  366157005  Cardiovascular measurement - finding"
      ]
     },
     "execution_count": 64,
     "metadata": {},
     "output_type": "execute_result"
    }
   ],
   "source": [
    "p2 = itertate_child(tgt,p1)\n",
    "p2_df = pd.DataFrame(list(zip(p2[0],p2[1],p2[2],p2[3])))\n",
    "p2_df=p2_df.rename(columns={ p2_df.columns[0]: \"Source\" ,p2_df.columns[1]: \"Child_UI\" , p2_df.columns[2]: \"Parent2_UI\" , p2_df.columns[3]: \"Parent2\"})\n",
    "p2_df.head()"
   ]
  },
  {
   "cell_type": "code",
   "execution_count": 65,
   "id": "9048a534",
   "metadata": {},
   "outputs": [
    {
     "name": "stdout",
     "output_type": "stream",
     "text": [
      "150\n",
      "85\n"
     ]
    }
   ],
   "source": [
    "print(len(p2_df))\n",
    "p2_df = p2_df.drop_duplicates(subset=['Source','Child_UI','Parent2_UI','Parent2'], keep='first')\n",
    "print(len(p2_df))"
   ]
  },
  {
   "cell_type": "code",
   "execution_count": 66,
   "id": "76d3ddaf",
   "metadata": {},
   "outputs": [],
   "source": [
    "dedup_p2 = np.stack([p2_df['Source'], p2_df['Child_UI'], p2_df['Parent2_UI'], p2_df['Parent2']])"
   ]
  },
  {
   "cell_type": "code",
   "execution_count": 89,
   "id": "a5099c2f",
   "metadata": {},
   "outputs": [
    {
     "data": {
      "text/html": [
       "<div>\n",
       "<style scoped>\n",
       "    .dataframe tbody tr th:only-of-type {\n",
       "        vertical-align: middle;\n",
       "    }\n",
       "\n",
       "    .dataframe tbody tr th {\n",
       "        vertical-align: top;\n",
       "    }\n",
       "\n",
       "    .dataframe thead th {\n",
       "        text-align: right;\n",
       "    }\n",
       "</style>\n",
       "<table border=\"1\" class=\"dataframe\">\n",
       "  <thead>\n",
       "    <tr style=\"text-align: right;\">\n",
       "      <th></th>\n",
       "      <th>Source</th>\n",
       "      <th>Disease</th>\n",
       "      <th>UID</th>\n",
       "      <th>Synonyms</th>\n",
       "      <th>Parent1_UI</th>\n",
       "      <th>Parent1</th>\n",
       "      <th>Parent2_UI</th>\n",
       "      <th>Parent2</th>\n",
       "    </tr>\n",
       "  </thead>\n",
       "  <tbody>\n",
       "    <tr>\n",
       "      <th>0</th>\n",
       "      <td>SNOMEDCT_US</td>\n",
       "      <td>hypertension</td>\n",
       "      <td>34742003</td>\n",
       "      <td>Portal hypertension</td>\n",
       "      <td>234072000</td>\n",
       "      <td>Venous hypertension</td>\n",
       "      <td>90507008</td>\n",
       "      <td>Disorder of vein</td>\n",
       "    </tr>\n",
       "    <tr>\n",
       "      <th>1</th>\n",
       "      <td>SNOMEDCT_US</td>\n",
       "      <td>hypertension</td>\n",
       "      <td>34742003</td>\n",
       "      <td>Portal hypertension</td>\n",
       "      <td>128056006</td>\n",
       "      <td>Disorder of portal venous system</td>\n",
       "      <td>128052008</td>\n",
       "      <td>Vascular disease of abdomen</td>\n",
       "    </tr>\n",
       "    <tr>\n",
       "      <th>2</th>\n",
       "      <td>SNOMEDCT_US</td>\n",
       "      <td>hypertension</td>\n",
       "      <td>34742003</td>\n",
       "      <td>Portal hypertension</td>\n",
       "      <td>128056006</td>\n",
       "      <td>Disorder of portal venous system</td>\n",
       "      <td>90507008</td>\n",
       "      <td>Disorder of vein</td>\n",
       "    </tr>\n",
       "    <tr>\n",
       "      <th>3</th>\n",
       "      <td>SNOMEDCT_US</td>\n",
       "      <td>hypertension</td>\n",
       "      <td>70995007</td>\n",
       "      <td>Pulmonary hypertension</td>\n",
       "      <td>39785005</td>\n",
       "      <td>Disorder of pulmonary circulation</td>\n",
       "      <td>373434004</td>\n",
       "      <td>Disorder of blood vessels of thorax</td>\n",
       "    </tr>\n",
       "    <tr>\n",
       "      <th>4</th>\n",
       "      <td>SNOMEDCT_US</td>\n",
       "      <td>hypertension</td>\n",
       "      <td>59621000</td>\n",
       "      <td>Essential hypertension</td>\n",
       "      <td>38341003</td>\n",
       "      <td>Hypertensive disorder</td>\n",
       "      <td>366157005</td>\n",
       "      <td>Cardiovascular measurement - finding</td>\n",
       "    </tr>\n",
       "  </tbody>\n",
       "</table>\n",
       "</div>"
      ],
      "text/plain": [
       "        Source       Disease       UID                Synonyms Parent1_UI  \\\n",
       "0  SNOMEDCT_US  hypertension  34742003     Portal hypertension  234072000   \n",
       "1  SNOMEDCT_US  hypertension  34742003     Portal hypertension  128056006   \n",
       "2  SNOMEDCT_US  hypertension  34742003     Portal hypertension  128056006   \n",
       "3  SNOMEDCT_US  hypertension  70995007  Pulmonary hypertension   39785005   \n",
       "4  SNOMEDCT_US  hypertension  59621000  Essential hypertension   38341003   \n",
       "\n",
       "                             Parent1 Parent2_UI  \\\n",
       "0                Venous hypertension   90507008   \n",
       "1   Disorder of portal venous system  128052008   \n",
       "2   Disorder of portal venous system   90507008   \n",
       "3  Disorder of pulmonary circulation  373434004   \n",
       "4              Hypertensive disorder  366157005   \n",
       "\n",
       "                                Parent2  \n",
       "0                      Disorder of vein  \n",
       "1           Vascular disease of abdomen  \n",
       "2                      Disorder of vein  \n",
       "3   Disorder of blood vessels of thorax  \n",
       "4  Cardiovascular measurement - finding  "
      ]
     },
     "execution_count": 89,
     "metadata": {},
     "output_type": "execute_result"
    }
   ],
   "source": [
    "source_df = pd.merge(source_df, p2_df, left_on=['Source','Parent1_UI'], right_on=['Source','Child_UI'],how='left')\n",
    "source_df = source_df.drop(['Child_UI'], axis = 1)\n",
    "\n",
    "source_df.head()"
   ]
  },
  {
   "cell_type": "markdown",
   "id": "1b91916c",
   "metadata": {},
   "source": [
    "# Get Parents 3 Information"
   ]
  },
  {
   "cell_type": "code",
   "execution_count": 68,
   "id": "bd1b738b",
   "metadata": {},
   "outputs": [
    {
     "data": {
      "text/html": [
       "<div>\n",
       "<style scoped>\n",
       "    .dataframe tbody tr th:only-of-type {\n",
       "        vertical-align: middle;\n",
       "    }\n",
       "\n",
       "    .dataframe tbody tr th {\n",
       "        vertical-align: top;\n",
       "    }\n",
       "\n",
       "    .dataframe thead th {\n",
       "        text-align: right;\n",
       "    }\n",
       "</style>\n",
       "<table border=\"1\" class=\"dataframe\">\n",
       "  <thead>\n",
       "    <tr style=\"text-align: right;\">\n",
       "      <th></th>\n",
       "      <th>Source</th>\n",
       "      <th>Child_UI</th>\n",
       "      <th>Parent3_UI</th>\n",
       "      <th>Parent3</th>\n",
       "    </tr>\n",
       "  </thead>\n",
       "  <tbody>\n",
       "    <tr>\n",
       "      <th>0</th>\n",
       "      <td>SNOMEDCT_US</td>\n",
       "      <td>90507008</td>\n",
       "      <td>248727005</td>\n",
       "      <td>Venous finding</td>\n",
       "    </tr>\n",
       "    <tr>\n",
       "      <th>1</th>\n",
       "      <td>SNOMEDCT_US</td>\n",
       "      <td>90507008</td>\n",
       "      <td>27550009</td>\n",
       "      <td>Vascular disorder</td>\n",
       "    </tr>\n",
       "    <tr>\n",
       "      <th>2</th>\n",
       "      <td>SNOMEDCT_US</td>\n",
       "      <td>128052008</td>\n",
       "      <td>27550009</td>\n",
       "      <td>Vascular disorder</td>\n",
       "    </tr>\n",
       "    <tr>\n",
       "      <th>3</th>\n",
       "      <td>SNOMEDCT_US</td>\n",
       "      <td>128052008</td>\n",
       "      <td>118948005</td>\n",
       "      <td>Disorder of abdomen</td>\n",
       "    </tr>\n",
       "    <tr>\n",
       "      <th>4</th>\n",
       "      <td>SNOMEDCT_US</td>\n",
       "      <td>90507008</td>\n",
       "      <td>248727005</td>\n",
       "      <td>Venous finding</td>\n",
       "    </tr>\n",
       "  </tbody>\n",
       "</table>\n",
       "</div>"
      ],
      "text/plain": [
       "        Source   Child_UI Parent3_UI              Parent3\n",
       "0  SNOMEDCT_US   90507008  248727005       Venous finding\n",
       "1  SNOMEDCT_US   90507008   27550009    Vascular disorder\n",
       "2  SNOMEDCT_US  128052008   27550009    Vascular disorder\n",
       "3  SNOMEDCT_US  128052008  118948005  Disorder of abdomen\n",
       "4  SNOMEDCT_US   90507008  248727005       Venous finding"
      ]
     },
     "execution_count": 68,
     "metadata": {},
     "output_type": "execute_result"
    }
   ],
   "source": [
    "p3 = itertate_child(tgt,dedup_p2)\n",
    "p3_df = pd.DataFrame(list(zip(p3[0],p3[1],p3[2],p3[3])))\n",
    "p3_df=p3_df.rename(columns={ p3_df.columns[0]: \"Source\" ,p3_df.columns[1]: \"Child_UI\" , p3_df.columns[2]: \"Parent3_UI\" , p3_df.columns[3]: \"Parent3\"})\n",
    "p3_df.head()"
   ]
  },
  {
   "cell_type": "code",
   "execution_count": 69,
   "id": "587b1e3b",
   "metadata": {},
   "outputs": [
    {
     "name": "stdout",
     "output_type": "stream",
     "text": [
      "111\n",
      "88\n"
     ]
    }
   ],
   "source": [
    "print(len(p3_df))\n",
    "p3_df = p3_df.drop_duplicates(subset=['Source','Child_UI','Parent3_UI','Parent3'], keep='first')\n",
    "print(len(p3_df))"
   ]
  },
  {
   "cell_type": "code",
   "execution_count": 71,
   "id": "59ebd8cb",
   "metadata": {},
   "outputs": [],
   "source": [
    "dedup_p3 = np.stack([p3_df['Source'], p3_df['Child_UI'], p3_df['Parent3_UI'], p3_df['Parent3']])"
   ]
  },
  {
   "cell_type": "code",
   "execution_count": 90,
   "id": "2b1a64ad",
   "metadata": {},
   "outputs": [
    {
     "data": {
      "text/html": [
       "<div>\n",
       "<style scoped>\n",
       "    .dataframe tbody tr th:only-of-type {\n",
       "        vertical-align: middle;\n",
       "    }\n",
       "\n",
       "    .dataframe tbody tr th {\n",
       "        vertical-align: top;\n",
       "    }\n",
       "\n",
       "    .dataframe thead th {\n",
       "        text-align: right;\n",
       "    }\n",
       "</style>\n",
       "<table border=\"1\" class=\"dataframe\">\n",
       "  <thead>\n",
       "    <tr style=\"text-align: right;\">\n",
       "      <th></th>\n",
       "      <th>Source</th>\n",
       "      <th>Disease</th>\n",
       "      <th>UID</th>\n",
       "      <th>Synonyms</th>\n",
       "      <th>Parent1_UI</th>\n",
       "      <th>Parent1</th>\n",
       "      <th>Parent2_UI</th>\n",
       "      <th>Parent2</th>\n",
       "      <th>Parent3_UI</th>\n",
       "      <th>Parent3</th>\n",
       "    </tr>\n",
       "  </thead>\n",
       "  <tbody>\n",
       "    <tr>\n",
       "      <th>0</th>\n",
       "      <td>SNOMEDCT_US</td>\n",
       "      <td>hypertension</td>\n",
       "      <td>34742003</td>\n",
       "      <td>Portal hypertension</td>\n",
       "      <td>234072000</td>\n",
       "      <td>Venous hypertension</td>\n",
       "      <td>90507008</td>\n",
       "      <td>Disorder of vein</td>\n",
       "      <td>248727005</td>\n",
       "      <td>Venous finding</td>\n",
       "    </tr>\n",
       "    <tr>\n",
       "      <th>1</th>\n",
       "      <td>SNOMEDCT_US</td>\n",
       "      <td>hypertension</td>\n",
       "      <td>34742003</td>\n",
       "      <td>Portal hypertension</td>\n",
       "      <td>234072000</td>\n",
       "      <td>Venous hypertension</td>\n",
       "      <td>90507008</td>\n",
       "      <td>Disorder of vein</td>\n",
       "      <td>27550009</td>\n",
       "      <td>Vascular disorder</td>\n",
       "    </tr>\n",
       "    <tr>\n",
       "      <th>2</th>\n",
       "      <td>SNOMEDCT_US</td>\n",
       "      <td>hypertension</td>\n",
       "      <td>34742003</td>\n",
       "      <td>Portal hypertension</td>\n",
       "      <td>128056006</td>\n",
       "      <td>Disorder of portal venous system</td>\n",
       "      <td>128052008</td>\n",
       "      <td>Vascular disease of abdomen</td>\n",
       "      <td>27550009</td>\n",
       "      <td>Vascular disorder</td>\n",
       "    </tr>\n",
       "    <tr>\n",
       "      <th>3</th>\n",
       "      <td>SNOMEDCT_US</td>\n",
       "      <td>hypertension</td>\n",
       "      <td>34742003</td>\n",
       "      <td>Portal hypertension</td>\n",
       "      <td>128056006</td>\n",
       "      <td>Disorder of portal venous system</td>\n",
       "      <td>128052008</td>\n",
       "      <td>Vascular disease of abdomen</td>\n",
       "      <td>118948005</td>\n",
       "      <td>Disorder of abdomen</td>\n",
       "    </tr>\n",
       "    <tr>\n",
       "      <th>4</th>\n",
       "      <td>SNOMEDCT_US</td>\n",
       "      <td>hypertension</td>\n",
       "      <td>34742003</td>\n",
       "      <td>Portal hypertension</td>\n",
       "      <td>128056006</td>\n",
       "      <td>Disorder of portal venous system</td>\n",
       "      <td>90507008</td>\n",
       "      <td>Disorder of vein</td>\n",
       "      <td>248727005</td>\n",
       "      <td>Venous finding</td>\n",
       "    </tr>\n",
       "  </tbody>\n",
       "</table>\n",
       "</div>"
      ],
      "text/plain": [
       "        Source       Disease       UID             Synonyms Parent1_UI  \\\n",
       "0  SNOMEDCT_US  hypertension  34742003  Portal hypertension  234072000   \n",
       "1  SNOMEDCT_US  hypertension  34742003  Portal hypertension  234072000   \n",
       "2  SNOMEDCT_US  hypertension  34742003  Portal hypertension  128056006   \n",
       "3  SNOMEDCT_US  hypertension  34742003  Portal hypertension  128056006   \n",
       "4  SNOMEDCT_US  hypertension  34742003  Portal hypertension  128056006   \n",
       "\n",
       "                            Parent1 Parent2_UI                      Parent2  \\\n",
       "0               Venous hypertension   90507008             Disorder of vein   \n",
       "1               Venous hypertension   90507008             Disorder of vein   \n",
       "2  Disorder of portal venous system  128052008  Vascular disease of abdomen   \n",
       "3  Disorder of portal venous system  128052008  Vascular disease of abdomen   \n",
       "4  Disorder of portal venous system   90507008             Disorder of vein   \n",
       "\n",
       "  Parent3_UI              Parent3  \n",
       "0  248727005       Venous finding  \n",
       "1   27550009    Vascular disorder  \n",
       "2   27550009    Vascular disorder  \n",
       "3  118948005  Disorder of abdomen  \n",
       "4  248727005       Venous finding  "
      ]
     },
     "execution_count": 90,
     "metadata": {},
     "output_type": "execute_result"
    }
   ],
   "source": [
    "source_df = pd.merge(source_df, p3_df, left_on=['Source','Parent2_UI'], right_on=['Source','Child_UI'],how='left')\n",
    "source_df = source_df.drop(['Child_UI'], axis = 1)\n",
    "\n",
    "source_df.head()"
   ]
  },
  {
   "cell_type": "markdown",
   "id": "db085e64",
   "metadata": {},
   "source": [
    "# Get Parents 4 Information"
   ]
  },
  {
   "cell_type": "code",
   "execution_count": 81,
   "id": "740fe5e2",
   "metadata": {},
   "outputs": [
    {
     "data": {
      "text/html": [
       "<div>\n",
       "<style scoped>\n",
       "    .dataframe tbody tr th:only-of-type {\n",
       "        vertical-align: middle;\n",
       "    }\n",
       "\n",
       "    .dataframe tbody tr th {\n",
       "        vertical-align: top;\n",
       "    }\n",
       "\n",
       "    .dataframe thead th {\n",
       "        text-align: right;\n",
       "    }\n",
       "</style>\n",
       "<table border=\"1\" class=\"dataframe\">\n",
       "  <thead>\n",
       "    <tr style=\"text-align: right;\">\n",
       "      <th></th>\n",
       "      <th>Source</th>\n",
       "      <th>Child_UI</th>\n",
       "      <th>Parent4_UI</th>\n",
       "      <th>Parent4</th>\n",
       "    </tr>\n",
       "  </thead>\n",
       "  <tbody>\n",
       "    <tr>\n",
       "      <th>0</th>\n",
       "      <td>SNOMEDCT_US</td>\n",
       "      <td>248727005</td>\n",
       "      <td>21829004</td>\n",
       "      <td>Blood vessel finding</td>\n",
       "    </tr>\n",
       "    <tr>\n",
       "      <th>1</th>\n",
       "      <td>SNOMEDCT_US</td>\n",
       "      <td>27550009</td>\n",
       "      <td>19660004</td>\n",
       "      <td>Disorder of soft tissue</td>\n",
       "    </tr>\n",
       "    <tr>\n",
       "      <th>2</th>\n",
       "      <td>SNOMEDCT_US</td>\n",
       "      <td>27550009</td>\n",
       "      <td>21829004</td>\n",
       "      <td>Blood vessel finding</td>\n",
       "    </tr>\n",
       "    <tr>\n",
       "      <th>3</th>\n",
       "      <td>SNOMEDCT_US</td>\n",
       "      <td>27550009</td>\n",
       "      <td>49601007</td>\n",
       "      <td>Disorder of cardiovascular system</td>\n",
       "    </tr>\n",
       "    <tr>\n",
       "      <th>4</th>\n",
       "      <td>SNOMEDCT_US</td>\n",
       "      <td>27550009</td>\n",
       "      <td>19660004</td>\n",
       "      <td>Disorder of soft tissue</td>\n",
       "    </tr>\n",
       "  </tbody>\n",
       "</table>\n",
       "</div>"
      ],
      "text/plain": [
       "        Source   Child_UI Parent4_UI                            Parent4\n",
       "0  SNOMEDCT_US  248727005   21829004               Blood vessel finding\n",
       "1  SNOMEDCT_US   27550009   19660004            Disorder of soft tissue\n",
       "2  SNOMEDCT_US   27550009   21829004               Blood vessel finding\n",
       "3  SNOMEDCT_US   27550009   49601007  Disorder of cardiovascular system\n",
       "4  SNOMEDCT_US   27550009   19660004            Disorder of soft tissue"
      ]
     },
     "execution_count": 81,
     "metadata": {},
     "output_type": "execute_result"
    }
   ],
   "source": [
    "p4 = itertate_child(tgt,dedup_p3)\n",
    "p4_df = pd.DataFrame(list(zip(p4[0],p4[1],p4[2],p4[3])))\n",
    "p4_df=p4_df.rename(columns={ p4_df.columns[0]: \"Source\" ,p4_df.columns[1]: \"Child_UI\" , p4_df.columns[2]: \"Parent4_UI\" , p4_df.columns[3]: \"Parent4\"})\n",
    "p4_df.head()"
   ]
  },
  {
   "cell_type": "code",
   "execution_count": 82,
   "id": "3ac69d4c",
   "metadata": {},
   "outputs": [
    {
     "name": "stdout",
     "output_type": "stream",
     "text": [
      "113\n",
      "79\n"
     ]
    }
   ],
   "source": [
    "print(len(p4_df))\n",
    "p4_df = p4_df.drop_duplicates(subset=['Source','Child_UI','Parent4_UI','Parent4'], keep='first')\n",
    "print(len(p4_df))"
   ]
  },
  {
   "cell_type": "code",
   "execution_count": 85,
   "id": "02f25d73",
   "metadata": {},
   "outputs": [],
   "source": [
    "dedup_p4 = np.stack([p4_df['Source'], p4_df['Child_UI'], p4_df['Parent4_UI'], p4_df['Parent4']])"
   ]
  },
  {
   "cell_type": "code",
   "execution_count": 91,
   "id": "f4346854",
   "metadata": {},
   "outputs": [
    {
     "data": {
      "text/html": [
       "<div>\n",
       "<style scoped>\n",
       "    .dataframe tbody tr th:only-of-type {\n",
       "        vertical-align: middle;\n",
       "    }\n",
       "\n",
       "    .dataframe tbody tr th {\n",
       "        vertical-align: top;\n",
       "    }\n",
       "\n",
       "    .dataframe thead th {\n",
       "        text-align: right;\n",
       "    }\n",
       "</style>\n",
       "<table border=\"1\" class=\"dataframe\">\n",
       "  <thead>\n",
       "    <tr style=\"text-align: right;\">\n",
       "      <th></th>\n",
       "      <th>Source</th>\n",
       "      <th>Disease</th>\n",
       "      <th>UID</th>\n",
       "      <th>Synonyms</th>\n",
       "      <th>Parent1_UI</th>\n",
       "      <th>Parent1</th>\n",
       "      <th>Parent2_UI</th>\n",
       "      <th>Parent2</th>\n",
       "      <th>Parent3_UI</th>\n",
       "      <th>Parent3</th>\n",
       "      <th>Parent4_UI</th>\n",
       "      <th>Parent4</th>\n",
       "    </tr>\n",
       "  </thead>\n",
       "  <tbody>\n",
       "    <tr>\n",
       "      <th>0</th>\n",
       "      <td>SNOMEDCT_US</td>\n",
       "      <td>hypertension</td>\n",
       "      <td>34742003</td>\n",
       "      <td>Portal hypertension</td>\n",
       "      <td>234072000</td>\n",
       "      <td>Venous hypertension</td>\n",
       "      <td>90507008</td>\n",
       "      <td>Disorder of vein</td>\n",
       "      <td>248727005</td>\n",
       "      <td>Venous finding</td>\n",
       "      <td>21829004</td>\n",
       "      <td>Blood vessel finding</td>\n",
       "    </tr>\n",
       "    <tr>\n",
       "      <th>1</th>\n",
       "      <td>SNOMEDCT_US</td>\n",
       "      <td>hypertension</td>\n",
       "      <td>34742003</td>\n",
       "      <td>Portal hypertension</td>\n",
       "      <td>234072000</td>\n",
       "      <td>Venous hypertension</td>\n",
       "      <td>90507008</td>\n",
       "      <td>Disorder of vein</td>\n",
       "      <td>27550009</td>\n",
       "      <td>Vascular disorder</td>\n",
       "      <td>19660004</td>\n",
       "      <td>Disorder of soft tissue</td>\n",
       "    </tr>\n",
       "    <tr>\n",
       "      <th>2</th>\n",
       "      <td>SNOMEDCT_US</td>\n",
       "      <td>hypertension</td>\n",
       "      <td>34742003</td>\n",
       "      <td>Portal hypertension</td>\n",
       "      <td>234072000</td>\n",
       "      <td>Venous hypertension</td>\n",
       "      <td>90507008</td>\n",
       "      <td>Disorder of vein</td>\n",
       "      <td>27550009</td>\n",
       "      <td>Vascular disorder</td>\n",
       "      <td>21829004</td>\n",
       "      <td>Blood vessel finding</td>\n",
       "    </tr>\n",
       "    <tr>\n",
       "      <th>3</th>\n",
       "      <td>SNOMEDCT_US</td>\n",
       "      <td>hypertension</td>\n",
       "      <td>34742003</td>\n",
       "      <td>Portal hypertension</td>\n",
       "      <td>234072000</td>\n",
       "      <td>Venous hypertension</td>\n",
       "      <td>90507008</td>\n",
       "      <td>Disorder of vein</td>\n",
       "      <td>27550009</td>\n",
       "      <td>Vascular disorder</td>\n",
       "      <td>49601007</td>\n",
       "      <td>Disorder of cardiovascular system</td>\n",
       "    </tr>\n",
       "    <tr>\n",
       "      <th>4</th>\n",
       "      <td>SNOMEDCT_US</td>\n",
       "      <td>hypertension</td>\n",
       "      <td>34742003</td>\n",
       "      <td>Portal hypertension</td>\n",
       "      <td>128056006</td>\n",
       "      <td>Disorder of portal venous system</td>\n",
       "      <td>128052008</td>\n",
       "      <td>Vascular disease of abdomen</td>\n",
       "      <td>27550009</td>\n",
       "      <td>Vascular disorder</td>\n",
       "      <td>19660004</td>\n",
       "      <td>Disorder of soft tissue</td>\n",
       "    </tr>\n",
       "  </tbody>\n",
       "</table>\n",
       "</div>"
      ],
      "text/plain": [
       "        Source       Disease       UID             Synonyms Parent1_UI  \\\n",
       "0  SNOMEDCT_US  hypertension  34742003  Portal hypertension  234072000   \n",
       "1  SNOMEDCT_US  hypertension  34742003  Portal hypertension  234072000   \n",
       "2  SNOMEDCT_US  hypertension  34742003  Portal hypertension  234072000   \n",
       "3  SNOMEDCT_US  hypertension  34742003  Portal hypertension  234072000   \n",
       "4  SNOMEDCT_US  hypertension  34742003  Portal hypertension  128056006   \n",
       "\n",
       "                            Parent1 Parent2_UI                      Parent2  \\\n",
       "0               Venous hypertension   90507008             Disorder of vein   \n",
       "1               Venous hypertension   90507008             Disorder of vein   \n",
       "2               Venous hypertension   90507008             Disorder of vein   \n",
       "3               Venous hypertension   90507008             Disorder of vein   \n",
       "4  Disorder of portal venous system  128052008  Vascular disease of abdomen   \n",
       "\n",
       "  Parent3_UI            Parent3 Parent4_UI                            Parent4  \n",
       "0  248727005     Venous finding   21829004               Blood vessel finding  \n",
       "1   27550009  Vascular disorder   19660004            Disorder of soft tissue  \n",
       "2   27550009  Vascular disorder   21829004               Blood vessel finding  \n",
       "3   27550009  Vascular disorder   49601007  Disorder of cardiovascular system  \n",
       "4   27550009  Vascular disorder   19660004            Disorder of soft tissue  "
      ]
     },
     "execution_count": 91,
     "metadata": {},
     "output_type": "execute_result"
    }
   ],
   "source": [
    "source_df = pd.merge(source_df, p4_df, left_on=['Source','Parent3_UI'], right_on=['Source','Child_UI'],how='left')\n",
    "source_df = source_df.drop(['Child_UI'], axis = 1)\n",
    "\n",
    "source_df.head()"
   ]
  },
  {
   "cell_type": "code",
   "execution_count": 95,
   "id": "3d94f0e0",
   "metadata": {},
   "outputs": [],
   "source": [
    "source_df.to_csv('Disease with 4lvl.csv',index=False)\n"
   ]
  },
  {
   "cell_type": "code",
   "execution_count": 96,
   "id": "f398d65b",
   "metadata": {},
   "outputs": [],
   "source": [
    "end_time = datetime.now()"
   ]
  },
  {
   "cell_type": "code",
   "execution_count": 97,
   "id": "0e528865",
   "metadata": {},
   "outputs": [
    {
     "name": "stdout",
     "output_type": "stream",
     "text": [
      "The total time taken to run this workbook is: 1:02:22.492975\n"
     ]
    }
   ],
   "source": [
    "print('The total time taken to run this workbook is:',(end_time-start_time))"
   ]
  },
  {
   "cell_type": "code",
   "execution_count": null,
   "id": "5feacbd6",
   "metadata": {},
   "outputs": [],
   "source": []
  }
 ],
 "metadata": {
  "kernelspec": {
   "display_name": "Python 3 (ipykernel)",
   "language": "python",
   "name": "python3"
  },
  "language_info": {
   "codemirror_mode": {
    "name": "ipython",
    "version": 3
   },
   "file_extension": ".py",
   "mimetype": "text/x-python",
   "name": "python",
   "nbconvert_exporter": "python",
   "pygments_lexer": "ipython3",
   "version": "3.9.6"
  }
 },
 "nbformat": 4,
 "nbformat_minor": 5
}
