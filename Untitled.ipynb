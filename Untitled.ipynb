{
 "cells": [
  {
   "cell_type": "code",
   "execution_count": 6,
   "id": "86f91f97",
   "metadata": {},
   "outputs": [],
   "source": [
    "import requests\n",
    "import json\n",
    "import pandas as pd\n",
    "import xmltodict\n",
    "from lxml.html import fromstring\n",
    "import numpy as np\n",
    "from datetime import datetime"
   ]
  },
  {
   "cell_type": "code",
   "execution_count": 11,
   "id": "67e22099",
   "metadata": {},
   "outputs": [],
   "source": [
    "start_time = datetime.now()"
   ]
  },
  {
   "cell_type": "markdown",
   "id": "db73214d",
   "metadata": {},
   "source": [
    "# Read the excel file"
   ]
  },
  {
   "cell_type": "code",
   "execution_count": 19,
   "id": "8aec02f5",
   "metadata": {},
   "outputs": [],
   "source": [
    "df = pd.read_excel('Disease test set.xlsx')\n",
    "Disease = df[[\"Disease from model\"]].to_numpy() "
   ]
  },
  {
   "cell_type": "markdown",
   "id": "f48b632b",
   "metadata": {},
   "source": [
    "# Declare the different Sources"
   ]
  },
  {
   "cell_type": "code",
   "execution_count": 28,
   "id": "e8ac5511",
   "metadata": {},
   "outputs": [
    {
     "name": "stdout",
     "output_type": "stream",
     "text": [
      "['SNOMEDCT_US' 'MSH' 'OMIM']\n"
     ]
    }
   ],
   "source": [
    "source = n = np.array(['SNOMEDCT_US','MSH','OMIM'])\n",
    "print(source)"
   ]
  },
  {
   "cell_type": "markdown",
   "id": "c4d4f7fa",
   "metadata": {},
   "source": [
    "# Save the API Key"
   ]
  },
  {
   "cell_type": "code",
   "execution_count": 12,
   "id": "981a0ec1",
   "metadata": {},
   "outputs": [],
   "source": [
    "api_key = 'b97fa897-104d-4139-a516-47d8c31dbfee'\n",
    "uri=\"https://utslogin.nlm.nih.gov\""
   ]
  },
  {
   "cell_type": "code",
   "execution_count": 54,
   "id": "41bd2ccc",
   "metadata": {},
   "outputs": [
    {
     "name": "stdout",
     "output_type": "stream",
     "text": [
      "The TGT is https://utslogin.nlm.nih.gov/cas/v1/api-key/TGT-1032960-19k79bzFKaVGg7dnEiI29OCwgdvxhvW002nlqvvNXH1Vx9HKX3-cas\n"
     ]
    }
   ],
   "source": [
    "h = {\"Content-type\": \"application/x-www-form-urlencoded\", \"Accept\": \"text/plain\", \"User-Agent\":\"python\" }\n",
    "params = {'apikey': api_key}\n",
    "auth_endpoint = \"/cas/v1/api-key\"\n",
    "r = requests.post(uri+auth_endpoint,data=params,headers=h)\n",
    "response = fromstring(r.text)\n",
    "tgt = response.xpath('//form/@action')[0]\n",
    "print('The TGT is' , tgt)"
   ]
  },
  {
   "cell_type": "markdown",
   "id": "aa9c5608",
   "metadata": {},
   "source": [
    "# Get Disease Codes from UMLS"
   ]
  },
  {
   "cell_type": "code",
   "execution_count": 59,
   "id": "fd6ef12c",
   "metadata": {},
   "outputs": [],
   "source": [
    "def get_UMLS_codes(tgt,Disease):\n",
    "    synonyms_list = np.array([])\n",
    "    ui_list = np.array([])\n",
    "    source_list = np.array([])\n",
    "    disease_list = np.array([])\n",
    "    \n",
    "    for source_name in source:\n",
    "            \n",
    "               \n",
    "        service=\"http://umlsks.nlm.nih.gov\"\n",
    "        params = {'service': service}\n",
    "        h = {\"Content-type\": \"application/x-www-form-urlencoded\", \"Accept\": \"text/plain\", \"User-Agent\":\"python\" }\n",
    "        r = requests.post(tgt,data=params,headers=h)\n",
    "        st = r.text\n",
    "\n",
    "        base_url = \"https://uts-ws.nlm.nih.gov/rest/search/current?string=\"+Disease+\"&pageNumber=1&sabs=\"+source_name+\"&returnIdType=sourceUi&sinputType=atom&includeObsolete=false&ticket=\"+st\n",
    "        r = requests.get(base_url)\n",
    "        data = r.json()\n",
    "        jtopy=json.dumps(data)\n",
    "        dict_json=json.loads(jtopy)\n",
    "    \n",
    "        n = len(dict_json['result']['results'])\n",
    "        i = 0\n",
    "        \n",
    "        \n",
    "        while (i < n):\n",
    "            Synonyms  = str(dict_json['result']['results'][i]['name'])\n",
    "            ui = str(dict_json['result']['results'][i]['ui'])\n",
    "            synonyms_list = np.append(synonyms_list,Synonyms)\n",
    "            ui_list = np.append(ui_list,str(ui))\n",
    "            source_list = np.append(source_list,source_name)\n",
    "            disease_list = np.append(disease_list,Disease)\n",
    "            i+=1\n",
    "            \n",
    "            \n",
    "            \n",
    "    Final_Array = np.array([source_list,disease_list,ui_list,synonyms_list])\n",
    "    return Final_Array\n",
    "    \n",
    "            "
   ]
  },
  {
   "cell_type": "code",
   "execution_count": 65,
   "id": "9e085faf",
   "metadata": {},
   "outputs": [
    {
     "name": "stdout",
     "output_type": "stream",
     "text": [
      "https://utslogin.nlm.nih.gov/cas/v1/api-key/TGT-1032960-19k79bzFKaVGg7dnEiI29OCwgdvxhvW002nlqvvNXH1Vx9HKX3-cas\n"
     ]
    },
    {
     "data": {
      "text/html": [
       "<div>\n",
       "<style scoped>\n",
       "    .dataframe tbody tr th:only-of-type {\n",
       "        vertical-align: middle;\n",
       "    }\n",
       "\n",
       "    .dataframe tbody tr th {\n",
       "        vertical-align: top;\n",
       "    }\n",
       "\n",
       "    .dataframe thead th {\n",
       "        text-align: right;\n",
       "    }\n",
       "</style>\n",
       "<table border=\"1\" class=\"dataframe\">\n",
       "  <thead>\n",
       "    <tr style=\"text-align: right;\">\n",
       "      <th></th>\n",
       "      <th>0</th>\n",
       "      <th>1</th>\n",
       "      <th>2</th>\n",
       "      <th>3</th>\n",
       "    </tr>\n",
       "  </thead>\n",
       "  <tbody>\n",
       "    <tr>\n",
       "      <th>0</th>\n",
       "      <td>SNOMEDCT_US</td>\n",
       "      <td>Lung Cancer</td>\n",
       "      <td>162573006</td>\n",
       "      <td>Suspected lung cancer</td>\n",
       "    </tr>\n",
       "    <tr>\n",
       "      <th>1</th>\n",
       "      <td>SNOMEDCT_US</td>\n",
       "      <td>Lung Cancer</td>\n",
       "      <td>457721000124104</td>\n",
       "      <td>Metastatic non-small cell lung cancer</td>\n",
       "    </tr>\n",
       "    <tr>\n",
       "      <th>2</th>\n",
       "      <td>SNOMEDCT_US</td>\n",
       "      <td>Lung Cancer</td>\n",
       "      <td>13015001000119105</td>\n",
       "      <td>Lung cancer screening declined</td>\n",
       "    </tr>\n",
       "    <tr>\n",
       "      <th>3</th>\n",
       "      <td>SNOMEDCT_US</td>\n",
       "      <td>Lung Cancer</td>\n",
       "      <td>723301009</td>\n",
       "      <td>Squamous non-small cell lung cancer</td>\n",
       "    </tr>\n",
       "    <tr>\n",
       "      <th>4</th>\n",
       "      <td>SNOMEDCT_US</td>\n",
       "      <td>Lung Cancer</td>\n",
       "      <td>1098961000119105</td>\n",
       "      <td>History of cancer metastatic to lung</td>\n",
       "    </tr>\n",
       "    <tr>\n",
       "      <th>...</th>\n",
       "      <td>...</td>\n",
       "      <td>...</td>\n",
       "      <td>...</td>\n",
       "      <td>...</td>\n",
       "    </tr>\n",
       "    <tr>\n",
       "      <th>59</th>\n",
       "      <td>OMIM</td>\n",
       "      <td>Lung Cancer</td>\n",
       "      <td>614041</td>\n",
       "      <td>RB TRANSCRIPTIONAL COREPRESSOR 1</td>\n",
       "    </tr>\n",
       "    <tr>\n",
       "      <th>60</th>\n",
       "      <td>OMIM</td>\n",
       "      <td>Lung Cancer</td>\n",
       "      <td>MTHU052262</td>\n",
       "      <td>Increased risk of other cancers (e.g., kidney ...</td>\n",
       "    </tr>\n",
       "    <tr>\n",
       "      <th>61</th>\n",
       "      <td>OMIM</td>\n",
       "      <td>Lung Cancer</td>\n",
       "      <td>131550</td>\n",
       "      <td>EPIDERMAL GROWTH FACTOR RECEPTOR</td>\n",
       "    </tr>\n",
       "    <tr>\n",
       "      <th>62</th>\n",
       "      <td>OMIM</td>\n",
       "      <td>Lung Cancer</td>\n",
       "      <td>182280</td>\n",
       "      <td>SMALL CELL CANCER OF THE LUNG</td>\n",
       "    </tr>\n",
       "    <tr>\n",
       "      <th>63</th>\n",
       "      <td>OMIM</td>\n",
       "      <td>Lung Cancer</td>\n",
       "      <td>MTHU001565</td>\n",
       "      <td>Statistical association of extensive metabolis...</td>\n",
       "    </tr>\n",
       "  </tbody>\n",
       "</table>\n",
       "<p>64 rows × 4 columns</p>\n",
       "</div>"
      ],
      "text/plain": [
       "              0            1                  2  \\\n",
       "0   SNOMEDCT_US  Lung Cancer          162573006   \n",
       "1   SNOMEDCT_US  Lung Cancer    457721000124104   \n",
       "2   SNOMEDCT_US  Lung Cancer  13015001000119105   \n",
       "3   SNOMEDCT_US  Lung Cancer          723301009   \n",
       "4   SNOMEDCT_US  Lung Cancer   1098961000119105   \n",
       "..          ...          ...                ...   \n",
       "59         OMIM  Lung Cancer             614041   \n",
       "60         OMIM  Lung Cancer         MTHU052262   \n",
       "61         OMIM  Lung Cancer             131550   \n",
       "62         OMIM  Lung Cancer             182280   \n",
       "63         OMIM  Lung Cancer         MTHU001565   \n",
       "\n",
       "                                                    3  \n",
       "0                               Suspected lung cancer  \n",
       "1               Metastatic non-small cell lung cancer  \n",
       "2                      Lung cancer screening declined  \n",
       "3                 Squamous non-small cell lung cancer  \n",
       "4                History of cancer metastatic to lung  \n",
       "..                                                ...  \n",
       "59                   RB TRANSCRIPTIONAL COREPRESSOR 1  \n",
       "60  Increased risk of other cancers (e.g., kidney ...  \n",
       "61                   EPIDERMAL GROWTH FACTOR RECEPTOR  \n",
       "62                      SMALL CELL CANCER OF THE LUNG  \n",
       "63  Statistical association of extensive metabolis...  \n",
       "\n",
       "[64 rows x 4 columns]"
      ]
     },
     "execution_count": 65,
     "metadata": {},
     "output_type": "execute_result"
    }
   ],
   "source": [
    "a = get_UMLS_codes(tgt,'Lung Cancer')\n",
    "df = pd.DataFrame(list(zip(a[0],a[1],a[2],a[3])))"
   ]
  },
  {
   "cell_type": "code",
   "execution_count": 66,
   "id": "251377bc",
   "metadata": {},
   "outputs": [
    {
     "data": {
      "text/html": [
       "<div>\n",
       "<style scoped>\n",
       "    .dataframe tbody tr th:only-of-type {\n",
       "        vertical-align: middle;\n",
       "    }\n",
       "\n",
       "    .dataframe tbody tr th {\n",
       "        vertical-align: top;\n",
       "    }\n",
       "\n",
       "    .dataframe thead th {\n",
       "        text-align: right;\n",
       "    }\n",
       "</style>\n",
       "<table border=\"1\" class=\"dataframe\">\n",
       "  <thead>\n",
       "    <tr style=\"text-align: right;\">\n",
       "      <th></th>\n",
       "      <th>0</th>\n",
       "      <th>1</th>\n",
       "      <th>2</th>\n",
       "      <th>3</th>\n",
       "    </tr>\n",
       "  </thead>\n",
       "  <tbody>\n",
       "    <tr>\n",
       "      <th>0</th>\n",
       "      <td>SNOMEDCT_US</td>\n",
       "      <td>Lung Cancer</td>\n",
       "      <td>162573006</td>\n",
       "      <td>Suspected lung cancer</td>\n",
       "    </tr>\n",
       "    <tr>\n",
       "      <th>1</th>\n",
       "      <td>SNOMEDCT_US</td>\n",
       "      <td>Lung Cancer</td>\n",
       "      <td>457721000124104</td>\n",
       "      <td>Metastatic non-small cell lung cancer</td>\n",
       "    </tr>\n",
       "    <tr>\n",
       "      <th>2</th>\n",
       "      <td>SNOMEDCT_US</td>\n",
       "      <td>Lung Cancer</td>\n",
       "      <td>13015001000119105</td>\n",
       "      <td>Lung cancer screening declined</td>\n",
       "    </tr>\n",
       "    <tr>\n",
       "      <th>3</th>\n",
       "      <td>SNOMEDCT_US</td>\n",
       "      <td>Lung Cancer</td>\n",
       "      <td>723301009</td>\n",
       "      <td>Squamous non-small cell lung cancer</td>\n",
       "    </tr>\n",
       "    <tr>\n",
       "      <th>4</th>\n",
       "      <td>SNOMEDCT_US</td>\n",
       "      <td>Lung Cancer</td>\n",
       "      <td>1098961000119105</td>\n",
       "      <td>History of cancer metastatic to lung</td>\n",
       "    </tr>\n",
       "  </tbody>\n",
       "</table>\n",
       "</div>"
      ],
      "text/plain": [
       "             0            1                  2  \\\n",
       "0  SNOMEDCT_US  Lung Cancer          162573006   \n",
       "1  SNOMEDCT_US  Lung Cancer    457721000124104   \n",
       "2  SNOMEDCT_US  Lung Cancer  13015001000119105   \n",
       "3  SNOMEDCT_US  Lung Cancer          723301009   \n",
       "4  SNOMEDCT_US  Lung Cancer   1098961000119105   \n",
       "\n",
       "                                       3  \n",
       "0                  Suspected lung cancer  \n",
       "1  Metastatic non-small cell lung cancer  \n",
       "2         Lung cancer screening declined  \n",
       "3    Squamous non-small cell lung cancer  \n",
       "4   History of cancer metastatic to lung  "
      ]
     },
     "execution_count": 66,
     "metadata": {},
     "output_type": "execute_result"
    }
   ],
   "source": [
    "df.head()"
   ]
  },
  {
   "cell_type": "code",
   "execution_count": 13,
   "id": "7ad4f6dc",
   "metadata": {},
   "outputs": [],
   "source": [
    "end_time = datetime.now()"
   ]
  },
  {
   "cell_type": "code",
   "execution_count": 14,
   "id": "1425f54d",
   "metadata": {},
   "outputs": [
    {
     "name": "stdout",
     "output_type": "stream",
     "text": [
      "The total time taken to run this workboo is: 0:00:00.617600\n"
     ]
    }
   ],
   "source": [
    "print('The total time taken to run this workboo is:',(end_time-start_time))"
   ]
  },
  {
   "cell_type": "code",
   "execution_count": null,
   "id": "014febb0",
   "metadata": {},
   "outputs": [],
   "source": []
  }
 ],
 "metadata": {
  "kernelspec": {
   "display_name": "Python 3 (ipykernel)",
   "language": "python",
   "name": "python3"
  },
  "language_info": {
   "codemirror_mode": {
    "name": "ipython",
    "version": 3
   },
   "file_extension": ".py",
   "mimetype": "text/x-python",
   "name": "python",
   "nbconvert_exporter": "python",
   "pygments_lexer": "ipython3",
   "version": "3.9.6"
  }
 },
 "nbformat": 4,
 "nbformat_minor": 5
}
