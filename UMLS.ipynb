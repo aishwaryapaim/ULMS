{
 "cells": [
  {
   "cell_type": "code",
   "execution_count": 11,
   "id": "9087cac9",
   "metadata": {},
   "outputs": [],
   "source": [
    "import requests\n",
    "import json\n",
    "import pandas as pd\n",
    "import xmltodict"
   ]
  },
  {
   "cell_type": "code",
   "execution_count": 7,
   "id": "d383c7ae",
   "metadata": {},
   "outputs": [],
   "source": [
    "api_key = 'b97fa897-104d-4139-a516-47d8c31dbfee'"
   ]
  },
  {
   "cell_type": "code",
   "execution_count": 14,
   "id": "ad789b6a",
   "metadata": {},
   "outputs": [
    {
     "name": "stdout",
     "output_type": "stream",
     "text": [
      "https://utslogin.nlm.nih.gov/cas/v1/api-key?b97fa897-104d-4139-a516-47d8c31dbfee\n"
     ]
    },
    {
     "data": {
      "text/plain": [
       "<Response [415]>"
      ]
     },
     "execution_count": 14,
     "metadata": {},
     "output_type": "execute_result"
    }
   ],
   "source": [
    "base_url = 'https://utslogin.nlm.nih.gov/cas/v1/api-key?'+api_key\n",
    "print(base_url)\n",
    "r = requests.post(base_url)\n",
    "r"
   ]
  },
  {
   "cell_type": "code",
   "execution_count": 19,
   "id": "6121ca60",
   "metadata": {},
   "outputs": [
    {
     "data": {
      "text/plain": [
       "'https://utslogin.nlm.nih.gov/cas/v1/api-key/TGT-13286264-eyKZshe7fbEZ9vyLkGlMi0gLmmGl2HSc9PcjB4dcwtRHaYntef-cas'"
      ]
     },
     "execution_count": 19,
     "metadata": {},
     "output_type": "execute_result"
    }
   ],
   "source": [
    "h = {\"Content-type\": \"application/x-www-form-urlencoded\", \"Accept\": \"text/plain\", \"User-Agent\":\"python\" }\n",
    "params = {'apikey': api_key}\n",
    "auth_endpoint = \"/cas/v1/api-key\"\n",
    "r = requests.post(uri+auth_endpoint,data=params,headers=h)\n",
    "response = fromstring(r.text)\n",
    "tgt = response.xpath('//form/@action')[0]\n",
    "\n",
    "tgt"
   ]
  },
  {
   "cell_type": "code",
   "execution_count": 28,
   "id": "37fb2afd",
   "metadata": {},
   "outputs": [
    {
     "data": {
      "text/plain": [
       "'ST-32474061-YcqaUkdH7KTtub4B9xb5-cas'"
      ]
     },
     "execution_count": 28,
     "metadata": {},
     "output_type": "execute_result"
    }
   ],
   "source": [
    "service=\"http://umlsks.nlm.nih.gov\"\n",
    "params = {'service': service}\n",
    "h = {\"Content-type\": \"application/x-www-form-urlencoded\", \"Accept\": \"text/plain\", \"User-Agent\":\"python\" }\n",
    "r = requests.post(tgt,data=params,headers=h)\n",
    "st = r.text\n",
    "st\n",
    "\n"
   ]
  },
  {
   "cell_type": "code",
   "execution_count": 29,
   "id": "be7bc6c3",
   "metadata": {},
   "outputs": [
    {
     "name": "stdout",
     "output_type": "stream",
     "text": [
      "https://uts-ws.nlm.nih.gov/rest/search/current?string=lung cancer&pageNumber=1&sabs=SNOMEDCT_US&returnIdType=sourceUi&searchType=words&ticket=ST-32474061-YcqaUkdH7KTtub4B9xb5-cas\n"
     ]
    }
   ],
   "source": [
    "base_url = 'https://uts-ws.nlm.nih.gov/rest/search/current?string=lung cancer&pageNumber=1&sabs=SNOMEDCT_US&returnIdType=sourceUi&searchType=words&ticket='+st\n",
    "print(base_url)\n",
    "r = requests.get(base_url)"
   ]
  },
  {
   "cell_type": "code",
   "execution_count": 42,
   "id": "0f91c721",
   "metadata": {},
   "outputs": [
    {
     "data": {
      "text/plain": [
       "'254632001'"
      ]
     },
     "execution_count": 42,
     "metadata": {},
     "output_type": "execute_result"
    }
   ],
   "source": [
    "data = r.json()\n",
    "jtopy=json.dumps(data)\n",
    "dict_json=json.loads(jtopy)\n",
    "\n",
    "dict_json['result']['results'][1]['ui']\n",
    " "
   ]
  },
  {
   "cell_type": "code",
   "execution_count": 47,
   "id": "e9630341",
   "metadata": {},
   "outputs": [
    {
     "name": "stdout",
     "output_type": "stream",
     "text": [
      "Primary malignant neoplasm of lung : 93880001\n",
      "Small cell carcinoma of lung : 254632001\n",
      "Secondary malignant neoplasm of lung : 94391008\n",
      "Malignant tumor of lung : 363358000\n",
      "Lung cancer screening : 724167008\n",
      "Suspected lung cancer : 162573006\n",
      "Carcinoma in situ of lung : 92649001\n",
      "Family history of malignant neoplasm of lung : 429011007\n",
      "Secondary malignant neoplasm of right lung : 353561000119103\n",
      "Secondary malignant neoplasm of left lung : 353741000119106\n",
      "Primary malignant neoplasm of right lung : 890529001\n",
      "Primary malignant neoplasm of left lung : 890528009\n",
      "History of cancer metastatic to lung : 1098961000119105\n",
      "Lung cancer screening declined : 13015001000119105\n",
      "Non-small cell lung cancer : 254637007\n",
      "Metastatic non-small cell lung cancer : 457721000124104\n",
      "College of American Pathologists Cancer Checklist; Lung: Biopsy : 406067005\n",
      "College of American Pathologists Cancer Checklist; Lung: Resection : 406068000\n",
      "Epidermal growth factor receptor negative non-small cell lung cancer : 427038005\n",
      "Epidermal growth factor receptor positive non-small cell lung cancer : 426964009\n",
      "History of non-small cell malignant neoplasm of lung : 429226001\n",
      "Squamous non-small cell lung cancer : 723301009\n",
      "Secondary undifferentiated large cell carcinoma of lung : 105051000119106\n",
      "Non-small cell lung carcinoma with NRG1 fusion : 1141627001\n",
      "Non-small cell lung cancer with mutation in epidermal growth factor receptor : 703228009\n"
     ]
    }
   ],
   "source": [
    "n = len(dict_json['result']['results'])\n",
    "i = 0\n",
    "synonyms_list = []\n",
    "synonyms_list = []\n",
    "while (i < n):\n",
    "    Synonyms  = str(dict_json['result']['results'][i]['name'])\n",
    "    ui = str(dict_json['result']['results'][i]['ui'])\n",
    "    synonyms_list.append(Synonyms)\n",
    "    ui_list.append(ui)\n",
    "    i=i+1"
   ]
  },
  {
   "cell_type": "code",
   "execution_count": 51,
   "id": "1ef3055f",
   "metadata": {},
   "outputs": [
    {
     "data": {
      "text/html": [
       "<div>\n",
       "<style scoped>\n",
       "    .dataframe tbody tr th:only-of-type {\n",
       "        vertical-align: middle;\n",
       "    }\n",
       "\n",
       "    .dataframe tbody tr th {\n",
       "        vertical-align: top;\n",
       "    }\n",
       "\n",
       "    .dataframe thead th {\n",
       "        text-align: right;\n",
       "    }\n",
       "</style>\n",
       "<table border=\"1\" class=\"dataframe\">\n",
       "  <thead>\n",
       "    <tr style=\"text-align: right;\">\n",
       "      <th></th>\n",
       "      <th>Name</th>\n",
       "      <th>UI</th>\n",
       "    </tr>\n",
       "  </thead>\n",
       "  <tbody>\n",
       "    <tr>\n",
       "      <th>0</th>\n",
       "      <td>Primary malignant neoplasm of lung</td>\n",
       "      <td>93880001</td>\n",
       "    </tr>\n",
       "    <tr>\n",
       "      <th>1</th>\n",
       "      <td>Small cell carcinoma of lung</td>\n",
       "      <td>254632001</td>\n",
       "    </tr>\n",
       "    <tr>\n",
       "      <th>2</th>\n",
       "      <td>Secondary malignant neoplasm of lung</td>\n",
       "      <td>94391008</td>\n",
       "    </tr>\n",
       "    <tr>\n",
       "      <th>3</th>\n",
       "      <td>Malignant tumor of lung</td>\n",
       "      <td>363358000</td>\n",
       "    </tr>\n",
       "    <tr>\n",
       "      <th>4</th>\n",
       "      <td>Lung cancer screening</td>\n",
       "      <td>724167008</td>\n",
       "    </tr>\n",
       "    <tr>\n",
       "      <th>5</th>\n",
       "      <td>Suspected lung cancer</td>\n",
       "      <td>162573006</td>\n",
       "    </tr>\n",
       "    <tr>\n",
       "      <th>6</th>\n",
       "      <td>Carcinoma in situ of lung</td>\n",
       "      <td>92649001</td>\n",
       "    </tr>\n",
       "    <tr>\n",
       "      <th>7</th>\n",
       "      <td>Family history of malignant neoplasm of lung</td>\n",
       "      <td>429011007</td>\n",
       "    </tr>\n",
       "    <tr>\n",
       "      <th>8</th>\n",
       "      <td>Secondary malignant neoplasm of right lung</td>\n",
       "      <td>353561000119103</td>\n",
       "    </tr>\n",
       "    <tr>\n",
       "      <th>9</th>\n",
       "      <td>Secondary malignant neoplasm of left lung</td>\n",
       "      <td>353741000119106</td>\n",
       "    </tr>\n",
       "    <tr>\n",
       "      <th>10</th>\n",
       "      <td>Primary malignant neoplasm of right lung</td>\n",
       "      <td>890529001</td>\n",
       "    </tr>\n",
       "    <tr>\n",
       "      <th>11</th>\n",
       "      <td>Primary malignant neoplasm of left lung</td>\n",
       "      <td>890528009</td>\n",
       "    </tr>\n",
       "    <tr>\n",
       "      <th>12</th>\n",
       "      <td>History of cancer metastatic to lung</td>\n",
       "      <td>1098961000119105</td>\n",
       "    </tr>\n",
       "    <tr>\n",
       "      <th>13</th>\n",
       "      <td>Lung cancer screening declined</td>\n",
       "      <td>13015001000119105</td>\n",
       "    </tr>\n",
       "    <tr>\n",
       "      <th>14</th>\n",
       "      <td>Non-small cell lung cancer</td>\n",
       "      <td>254637007</td>\n",
       "    </tr>\n",
       "    <tr>\n",
       "      <th>15</th>\n",
       "      <td>Metastatic non-small cell lung cancer</td>\n",
       "      <td>457721000124104</td>\n",
       "    </tr>\n",
       "    <tr>\n",
       "      <th>16</th>\n",
       "      <td>College of American Pathologists Cancer Checkl...</td>\n",
       "      <td>406067005</td>\n",
       "    </tr>\n",
       "    <tr>\n",
       "      <th>17</th>\n",
       "      <td>College of American Pathologists Cancer Checkl...</td>\n",
       "      <td>406068000</td>\n",
       "    </tr>\n",
       "    <tr>\n",
       "      <th>18</th>\n",
       "      <td>Epidermal growth factor receptor negative non-...</td>\n",
       "      <td>427038005</td>\n",
       "    </tr>\n",
       "    <tr>\n",
       "      <th>19</th>\n",
       "      <td>Epidermal growth factor receptor positive non-...</td>\n",
       "      <td>426964009</td>\n",
       "    </tr>\n",
       "    <tr>\n",
       "      <th>20</th>\n",
       "      <td>History of non-small cell malignant neoplasm o...</td>\n",
       "      <td>429226001</td>\n",
       "    </tr>\n",
       "    <tr>\n",
       "      <th>21</th>\n",
       "      <td>Squamous non-small cell lung cancer</td>\n",
       "      <td>723301009</td>\n",
       "    </tr>\n",
       "    <tr>\n",
       "      <th>22</th>\n",
       "      <td>Secondary undifferentiated large cell carcinom...</td>\n",
       "      <td>105051000119106</td>\n",
       "    </tr>\n",
       "    <tr>\n",
       "      <th>23</th>\n",
       "      <td>Non-small cell lung carcinoma with NRG1 fusion</td>\n",
       "      <td>1141627001</td>\n",
       "    </tr>\n",
       "    <tr>\n",
       "      <th>24</th>\n",
       "      <td>Non-small cell lung cancer with mutation in ep...</td>\n",
       "      <td>703228009</td>\n",
       "    </tr>\n",
       "  </tbody>\n",
       "</table>\n",
       "</div>"
      ],
      "text/plain": [
       "                                                 Name                 UI\n",
       "0                  Primary malignant neoplasm of lung           93880001\n",
       "1                        Small cell carcinoma of lung          254632001\n",
       "2                Secondary malignant neoplasm of lung           94391008\n",
       "3                             Malignant tumor of lung          363358000\n",
       "4                               Lung cancer screening          724167008\n",
       "5                               Suspected lung cancer          162573006\n",
       "6                           Carcinoma in situ of lung           92649001\n",
       "7        Family history of malignant neoplasm of lung          429011007\n",
       "8          Secondary malignant neoplasm of right lung    353561000119103\n",
       "9           Secondary malignant neoplasm of left lung    353741000119106\n",
       "10           Primary malignant neoplasm of right lung          890529001\n",
       "11            Primary malignant neoplasm of left lung          890528009\n",
       "12               History of cancer metastatic to lung   1098961000119105\n",
       "13                     Lung cancer screening declined  13015001000119105\n",
       "14                         Non-small cell lung cancer          254637007\n",
       "15              Metastatic non-small cell lung cancer    457721000124104\n",
       "16  College of American Pathologists Cancer Checkl...          406067005\n",
       "17  College of American Pathologists Cancer Checkl...          406068000\n",
       "18  Epidermal growth factor receptor negative non-...          427038005\n",
       "19  Epidermal growth factor receptor positive non-...          426964009\n",
       "20  History of non-small cell malignant neoplasm o...          429226001\n",
       "21                Squamous non-small cell lung cancer          723301009\n",
       "22  Secondary undifferentiated large cell carcinom...    105051000119106\n",
       "23     Non-small cell lung carcinoma with NRG1 fusion         1141627001\n",
       "24  Non-small cell lung cancer with mutation in ep...          703228009"
      ]
     },
     "execution_count": 51,
     "metadata": {},
     "output_type": "execute_result"
    }
   ],
   "source": [
    "df = pd.DataFrame(list(zip(synonyms_list, ui_list)),\n",
    "               columns =['Name', 'UI'])\n",
    "df"
   ]
  }
 ],
 "metadata": {
  "kernelspec": {
   "display_name": "Python 3 (ipykernel)",
   "language": "python",
   "name": "python3"
  },
  "language_info": {
   "codemirror_mode": {
    "name": "ipython",
    "version": 3
   },
   "file_extension": ".py",
   "mimetype": "text/x-python",
   "name": "python",
   "nbconvert_exporter": "python",
   "pygments_lexer": "ipython3",
   "version": "3.9.6"
  }
 },
 "nbformat": 4,
 "nbformat_minor": 5
}
