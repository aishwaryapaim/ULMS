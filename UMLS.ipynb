{
 "cells": [
  {
   "cell_type": "code",
   "execution_count": 7,
   "id": "9087cac9",
   "metadata": {},
   "outputs": [],
   "source": [
    "import requests\n",
    "import json\n",
    "import pandas as pd\n",
    "import xmltodict\n",
    "from lxml.html import fromstring"
   ]
  },
  {
   "cell_type": "code",
   "execution_count": 8,
   "id": "d383c7ae",
   "metadata": {},
   "outputs": [],
   "source": [
    "api_key = 'b97fa897-104d-4139-a516-47d8c31dbfee'\n",
    "uri=\"https://utslogin.nlm.nih.gov\""
   ]
  },
  {
   "cell_type": "code",
   "execution_count": 9,
   "id": "6121ca60",
   "metadata": {},
   "outputs": [
    {
     "data": {
      "text/plain": [
       "'https://utslogin.nlm.nih.gov/cas/v1/api-key/TGT-13310027-qMKy7SMMBaa3mUxG1LuY7HBEDKUidzZxW2lbfxupev97znLdrr-cas'"
      ]
     },
     "execution_count": 9,
     "metadata": {},
     "output_type": "execute_result"
    }
   ],
   "source": [
    "h = {\"Content-type\": \"application/x-www-form-urlencoded\", \"Accept\": \"text/plain\", \"User-Agent\":\"python\" }\n",
    "params = {'apikey': api_key}\n",
    "auth_endpoint = \"/cas/v1/api-key\"\n",
    "r = requests.post(uri+auth_endpoint,data=params,headers=h)\n",
    "response = fromstring(r.text)\n",
    "tgt = response.xpath('//form/@action')[0]\n",
    "\n",
    "tgt"
   ]
  },
  {
   "cell_type": "code",
   "execution_count": 48,
   "id": "37fb2afd",
   "metadata": {},
   "outputs": [
    {
     "data": {
      "text/plain": [
       "'ST-32524913-4T9K5GQciwmlxz4ptDoy-cas'"
      ]
     },
     "execution_count": 48,
     "metadata": {},
     "output_type": "execute_result"
    }
   ],
   "source": [
    "service=\"http://umlsks.nlm.nih.gov\"\n",
    "params = {'service': service}\n",
    "h = {\"Content-type\": \"application/x-www-form-urlencoded\", \"Accept\": \"text/plain\", \"User-Agent\":\"python\" }\n",
    "r = requests.post(tgt,data=params,headers=h)\n",
    "st = r.text\n",
    "st\n",
    "\n"
   ]
  },
  {
   "cell_type": "code",
   "execution_count": 54,
   "id": "abeefc20",
   "metadata": {},
   "outputs": [
    {
     "name": "stdout",
     "output_type": "stream",
     "text": [
      "https://uts-ws.nlm.nih.gov/rest/search/current?string=Lung Cancer&pageNumber=1&sabs=SNOMEDCT_US&returnIdType=sourceUi&sinputType=atom&includeObsolete=false&ticket=ST-32526319-htGQdATOvQggufFz3Ce9-cas\n"
     ]
    },
    {
     "data": {
      "text/plain": [
       "{'pageSize': 25,\n",
       " 'pageNumber': 1,\n",
       " 'result': {'classType': 'searchResults',\n",
       "  'results': [{'ui': '93880001',\n",
       "    'rootSource': 'SNOMEDCT_US',\n",
       "    'uri': 'https://uts-ws.nlm.nih.gov/rest/content/2021AB/source/SNOMEDCT_US/93880001',\n",
       "    'name': 'Primary malignant neoplasm of lung'},\n",
       "   {'ui': '254632001',\n",
       "    'rootSource': 'SNOMEDCT_US',\n",
       "    'uri': 'https://uts-ws.nlm.nih.gov/rest/content/2021AB/source/SNOMEDCT_US/254632001',\n",
       "    'name': 'Small cell carcinoma of lung'},\n",
       "   {'ui': '94391008',\n",
       "    'rootSource': 'SNOMEDCT_US',\n",
       "    'uri': 'https://uts-ws.nlm.nih.gov/rest/content/2021AB/source/SNOMEDCT_US/94391008',\n",
       "    'name': 'Secondary malignant neoplasm of lung'},\n",
       "   {'ui': '363358000',\n",
       "    'rootSource': 'SNOMEDCT_US',\n",
       "    'uri': 'https://uts-ws.nlm.nih.gov/rest/content/2021AB/source/SNOMEDCT_US/363358000',\n",
       "    'name': 'Malignant tumor of lung'},\n",
       "   {'ui': '724167008',\n",
       "    'rootSource': 'SNOMEDCT_US',\n",
       "    'uri': 'https://uts-ws.nlm.nih.gov/rest/content/2021AB/source/SNOMEDCT_US/724167008',\n",
       "    'name': 'Lung cancer screening'},\n",
       "   {'ui': '162573006',\n",
       "    'rootSource': 'SNOMEDCT_US',\n",
       "    'uri': 'https://uts-ws.nlm.nih.gov/rest/content/2021AB/source/SNOMEDCT_US/162573006',\n",
       "    'name': 'Suspected lung cancer'},\n",
       "   {'ui': '92649001',\n",
       "    'rootSource': 'SNOMEDCT_US',\n",
       "    'uri': 'https://uts-ws.nlm.nih.gov/rest/content/2021AB/source/SNOMEDCT_US/92649001',\n",
       "    'name': 'Carcinoma in situ of lung'},\n",
       "   {'ui': '429011007',\n",
       "    'rootSource': 'SNOMEDCT_US',\n",
       "    'uri': 'https://uts-ws.nlm.nih.gov/rest/content/2021AB/source/SNOMEDCT_US/429011007',\n",
       "    'name': 'Family history of malignant neoplasm of lung'},\n",
       "   {'ui': '353561000119103',\n",
       "    'rootSource': 'SNOMEDCT_US',\n",
       "    'uri': 'https://uts-ws.nlm.nih.gov/rest/content/2021AB/source/SNOMEDCT_US/353561000119103',\n",
       "    'name': 'Secondary malignant neoplasm of right lung'},\n",
       "   {'ui': '353741000119106',\n",
       "    'rootSource': 'SNOMEDCT_US',\n",
       "    'uri': 'https://uts-ws.nlm.nih.gov/rest/content/2021AB/source/SNOMEDCT_US/353741000119106',\n",
       "    'name': 'Secondary malignant neoplasm of left lung'},\n",
       "   {'ui': '890529001',\n",
       "    'rootSource': 'SNOMEDCT_US',\n",
       "    'uri': 'https://uts-ws.nlm.nih.gov/rest/content/2021AB/source/SNOMEDCT_US/890529001',\n",
       "    'name': 'Primary malignant neoplasm of right lung'},\n",
       "   {'ui': '890528009',\n",
       "    'rootSource': 'SNOMEDCT_US',\n",
       "    'uri': 'https://uts-ws.nlm.nih.gov/rest/content/2021AB/source/SNOMEDCT_US/890528009',\n",
       "    'name': 'Primary malignant neoplasm of left lung'},\n",
       "   {'ui': '1098961000119105',\n",
       "    'rootSource': 'SNOMEDCT_US',\n",
       "    'uri': 'https://uts-ws.nlm.nih.gov/rest/content/2021AB/source/SNOMEDCT_US/1098961000119105',\n",
       "    'name': 'History of cancer metastatic to lung'},\n",
       "   {'ui': '13015001000119105',\n",
       "    'rootSource': 'SNOMEDCT_US',\n",
       "    'uri': 'https://uts-ws.nlm.nih.gov/rest/content/2021AB/source/SNOMEDCT_US/13015001000119105',\n",
       "    'name': 'Lung cancer screening declined'},\n",
       "   {'ui': '254637007',\n",
       "    'rootSource': 'SNOMEDCT_US',\n",
       "    'uri': 'https://uts-ws.nlm.nih.gov/rest/content/2021AB/source/SNOMEDCT_US/254637007',\n",
       "    'name': 'Non-small cell lung cancer'},\n",
       "   {'ui': '457721000124104',\n",
       "    'rootSource': 'SNOMEDCT_US',\n",
       "    'uri': 'https://uts-ws.nlm.nih.gov/rest/content/2021AB/source/SNOMEDCT_US/457721000124104',\n",
       "    'name': 'Metastatic non-small cell lung cancer'},\n",
       "   {'ui': '406067005',\n",
       "    'rootSource': 'SNOMEDCT_US',\n",
       "    'uri': 'https://uts-ws.nlm.nih.gov/rest/content/2021AB/source/SNOMEDCT_US/406067005',\n",
       "    'name': 'College of American Pathologists Cancer Checklist; Lung: Biopsy'},\n",
       "   {'ui': '406068000',\n",
       "    'rootSource': 'SNOMEDCT_US',\n",
       "    'uri': 'https://uts-ws.nlm.nih.gov/rest/content/2021AB/source/SNOMEDCT_US/406068000',\n",
       "    'name': 'College of American Pathologists Cancer Checklist; Lung: Resection'},\n",
       "   {'ui': '427038005',\n",
       "    'rootSource': 'SNOMEDCT_US',\n",
       "    'uri': 'https://uts-ws.nlm.nih.gov/rest/content/2021AB/source/SNOMEDCT_US/427038005',\n",
       "    'name': 'Epidermal growth factor receptor negative non-small cell lung cancer'},\n",
       "   {'ui': '426964009',\n",
       "    'rootSource': 'SNOMEDCT_US',\n",
       "    'uri': 'https://uts-ws.nlm.nih.gov/rest/content/2021AB/source/SNOMEDCT_US/426964009',\n",
       "    'name': 'Epidermal growth factor receptor positive non-small cell lung cancer'},\n",
       "   {'ui': '429226001',\n",
       "    'rootSource': 'SNOMEDCT_US',\n",
       "    'uri': 'https://uts-ws.nlm.nih.gov/rest/content/2021AB/source/SNOMEDCT_US/429226001',\n",
       "    'name': 'History of non-small cell malignant neoplasm of lung'},\n",
       "   {'ui': '723301009',\n",
       "    'rootSource': 'SNOMEDCT_US',\n",
       "    'uri': 'https://uts-ws.nlm.nih.gov/rest/content/2021AB/source/SNOMEDCT_US/723301009',\n",
       "    'name': 'Squamous non-small cell lung cancer'},\n",
       "   {'ui': '105051000119106',\n",
       "    'rootSource': 'SNOMEDCT_US',\n",
       "    'uri': 'https://uts-ws.nlm.nih.gov/rest/content/2021AB/source/SNOMEDCT_US/105051000119106',\n",
       "    'name': 'Secondary undifferentiated large cell carcinoma of lung'},\n",
       "   {'ui': '1141627001',\n",
       "    'rootSource': 'SNOMEDCT_US',\n",
       "    'uri': 'https://uts-ws.nlm.nih.gov/rest/content/2021AB/source/SNOMEDCT_US/1141627001',\n",
       "    'name': 'Non-small cell lung carcinoma with NRG1 fusion'},\n",
       "   {'ui': '703228009',\n",
       "    'rootSource': 'SNOMEDCT_US',\n",
       "    'uri': 'https://uts-ws.nlm.nih.gov/rest/content/2021AB/source/SNOMEDCT_US/703228009',\n",
       "    'name': 'Non-small cell lung cancer with mutation in epidermal growth factor receptor'}]}}"
      ]
     },
     "execution_count": 54,
     "metadata": {},
     "output_type": "execute_result"
    }
   ],
   "source": [
    "service=\"http://umlsks.nlm.nih.gov\"\n",
    "params = {'service': service}\n",
    "h = {\"Content-type\": \"application/x-www-form-urlencoded\", \"Accept\": \"text/plain\", \"User-Agent\":\"python\" }\n",
    "r = requests.post(tgt,data=params,headers=h)\n",
    "st = r.text\n",
    "base_url = \"https://uts-ws.nlm.nih.gov/rest/search/current?string=Lung Cancer&pageNumber=1&sabs=SNOMEDCT_US&returnIdType=sourceUi&sinputType=atom&includeObsolete=false&ticket=\"+st\n",
    "print(base_url)\n",
    "r = requests.get(base_url)\n",
    "data = r.json()\n",
    "jtopy=json.dumps(data)\n",
    "dict_json=json.loads(jtopy)"
   ]
  },
  {
   "cell_type": "code",
   "execution_count": 55,
   "id": "be7bc6c3",
   "metadata": {},
   "outputs": [
    {
     "data": {
      "text/plain": [
       "\"base_url = 'https://uts-ws.nlm.nih.gov/rest/search/current?string=Malignant neoplasm of lung&pageNumber=1&sabs=SNOMEDCT_US&returnIdType=sourceUi&sinputType=atom&includeObsolete=false&ticket='+st\\nprint(base_url)\\nr = requests.get(base_url)\""
      ]
     },
     "execution_count": 55,
     "metadata": {},
     "output_type": "execute_result"
    }
   ],
   "source": [
    "\"\"\"base_url = 'https://uts-ws.nlm.nih.gov/rest/search/current?string=Malignant neoplasm of lung&pageNumber=1&sabs=SNOMEDCT_US&returnIdType=sourceUi&sinputType=atom&includeObsolete=false&ticket='+st\n",
    "print(base_url)\n",
    "r = requests.get(base_url)\"\"\""
   ]
  },
  {
   "cell_type": "code",
   "execution_count": 56,
   "id": "0f91c721",
   "metadata": {},
   "outputs": [
    {
     "data": {
      "text/plain": [
       "'data = r.json()\\njtopy=json.dumps(data)\\ndict_json=json.loads(jtopy)\\n\\ndict_json'"
      ]
     },
     "execution_count": 56,
     "metadata": {},
     "output_type": "execute_result"
    }
   ],
   "source": [
    "\"\"\"data = r.json()\n",
    "jtopy=json.dumps(data)\n",
    "dict_json=json.loads(jtopy)\n",
    "\n",
    "dict_json\"\"\"\n",
    " "
   ]
  },
  {
   "cell_type": "code",
   "execution_count": 57,
   "id": "e9630341",
   "metadata": {},
   "outputs": [],
   "source": [
    "n = len(dict_json['result']['results'])\n",
    "i = 0\n",
    "synonyms_list = []\n",
    "ui_list = []\n",
    "while (i < n):\n",
    "    Synonyms  = str(dict_json['result']['results'][i]['name'])\n",
    "    ui = str(dict_json['result']['results'][i]['ui'])\n",
    "    synonyms_list.append(Synonyms)\n",
    "    ui_list.append(ui)\n",
    "    i=i+1"
   ]
  },
  {
   "cell_type": "code",
   "execution_count": null,
   "id": "35a9e289",
   "metadata": {},
   "outputs": [],
   "source": []
  },
  {
   "cell_type": "code",
   "execution_count": 58,
   "id": "1ef3055f",
   "metadata": {},
   "outputs": [
    {
     "data": {
      "text/html": [
       "<div>\n",
       "<style scoped>\n",
       "    .dataframe tbody tr th:only-of-type {\n",
       "        vertical-align: middle;\n",
       "    }\n",
       "\n",
       "    .dataframe tbody tr th {\n",
       "        vertical-align: top;\n",
       "    }\n",
       "\n",
       "    .dataframe thead th {\n",
       "        text-align: right;\n",
       "    }\n",
       "</style>\n",
       "<table border=\"1\" class=\"dataframe\">\n",
       "  <thead>\n",
       "    <tr style=\"text-align: right;\">\n",
       "      <th></th>\n",
       "      <th>Name</th>\n",
       "      <th>UI</th>\n",
       "    </tr>\n",
       "  </thead>\n",
       "  <tbody>\n",
       "    <tr>\n",
       "      <th>0</th>\n",
       "      <td>Primary malignant neoplasm of lung</td>\n",
       "      <td>93880001</td>\n",
       "    </tr>\n",
       "    <tr>\n",
       "      <th>1</th>\n",
       "      <td>Small cell carcinoma of lung</td>\n",
       "      <td>254632001</td>\n",
       "    </tr>\n",
       "    <tr>\n",
       "      <th>2</th>\n",
       "      <td>Secondary malignant neoplasm of lung</td>\n",
       "      <td>94391008</td>\n",
       "    </tr>\n",
       "    <tr>\n",
       "      <th>3</th>\n",
       "      <td>Malignant tumor of lung</td>\n",
       "      <td>363358000</td>\n",
       "    </tr>\n",
       "    <tr>\n",
       "      <th>4</th>\n",
       "      <td>Lung cancer screening</td>\n",
       "      <td>724167008</td>\n",
       "    </tr>\n",
       "    <tr>\n",
       "      <th>5</th>\n",
       "      <td>Suspected lung cancer</td>\n",
       "      <td>162573006</td>\n",
       "    </tr>\n",
       "    <tr>\n",
       "      <th>6</th>\n",
       "      <td>Carcinoma in situ of lung</td>\n",
       "      <td>92649001</td>\n",
       "    </tr>\n",
       "    <tr>\n",
       "      <th>7</th>\n",
       "      <td>Family history of malignant neoplasm of lung</td>\n",
       "      <td>429011007</td>\n",
       "    </tr>\n",
       "    <tr>\n",
       "      <th>8</th>\n",
       "      <td>Secondary malignant neoplasm of right lung</td>\n",
       "      <td>353561000119103</td>\n",
       "    </tr>\n",
       "    <tr>\n",
       "      <th>9</th>\n",
       "      <td>Secondary malignant neoplasm of left lung</td>\n",
       "      <td>353741000119106</td>\n",
       "    </tr>\n",
       "    <tr>\n",
       "      <th>10</th>\n",
       "      <td>Primary malignant neoplasm of right lung</td>\n",
       "      <td>890529001</td>\n",
       "    </tr>\n",
       "    <tr>\n",
       "      <th>11</th>\n",
       "      <td>Primary malignant neoplasm of left lung</td>\n",
       "      <td>890528009</td>\n",
       "    </tr>\n",
       "    <tr>\n",
       "      <th>12</th>\n",
       "      <td>History of cancer metastatic to lung</td>\n",
       "      <td>1098961000119105</td>\n",
       "    </tr>\n",
       "    <tr>\n",
       "      <th>13</th>\n",
       "      <td>Lung cancer screening declined</td>\n",
       "      <td>13015001000119105</td>\n",
       "    </tr>\n",
       "    <tr>\n",
       "      <th>14</th>\n",
       "      <td>Non-small cell lung cancer</td>\n",
       "      <td>254637007</td>\n",
       "    </tr>\n",
       "    <tr>\n",
       "      <th>15</th>\n",
       "      <td>Metastatic non-small cell lung cancer</td>\n",
       "      <td>457721000124104</td>\n",
       "    </tr>\n",
       "    <tr>\n",
       "      <th>16</th>\n",
       "      <td>College of American Pathologists Cancer Checkl...</td>\n",
       "      <td>406067005</td>\n",
       "    </tr>\n",
       "    <tr>\n",
       "      <th>17</th>\n",
       "      <td>College of American Pathologists Cancer Checkl...</td>\n",
       "      <td>406068000</td>\n",
       "    </tr>\n",
       "    <tr>\n",
       "      <th>18</th>\n",
       "      <td>Epidermal growth factor receptor negative non-...</td>\n",
       "      <td>427038005</td>\n",
       "    </tr>\n",
       "    <tr>\n",
       "      <th>19</th>\n",
       "      <td>Epidermal growth factor receptor positive non-...</td>\n",
       "      <td>426964009</td>\n",
       "    </tr>\n",
       "    <tr>\n",
       "      <th>20</th>\n",
       "      <td>History of non-small cell malignant neoplasm o...</td>\n",
       "      <td>429226001</td>\n",
       "    </tr>\n",
       "    <tr>\n",
       "      <th>21</th>\n",
       "      <td>Squamous non-small cell lung cancer</td>\n",
       "      <td>723301009</td>\n",
       "    </tr>\n",
       "    <tr>\n",
       "      <th>22</th>\n",
       "      <td>Secondary undifferentiated large cell carcinom...</td>\n",
       "      <td>105051000119106</td>\n",
       "    </tr>\n",
       "    <tr>\n",
       "      <th>23</th>\n",
       "      <td>Non-small cell lung carcinoma with NRG1 fusion</td>\n",
       "      <td>1141627001</td>\n",
       "    </tr>\n",
       "    <tr>\n",
       "      <th>24</th>\n",
       "      <td>Non-small cell lung cancer with mutation in ep...</td>\n",
       "      <td>703228009</td>\n",
       "    </tr>\n",
       "  </tbody>\n",
       "</table>\n",
       "</div>"
      ],
      "text/plain": [
       "                                                 Name                 UI\n",
       "0                  Primary malignant neoplasm of lung           93880001\n",
       "1                        Small cell carcinoma of lung          254632001\n",
       "2                Secondary malignant neoplasm of lung           94391008\n",
       "3                             Malignant tumor of lung          363358000\n",
       "4                               Lung cancer screening          724167008\n",
       "5                               Suspected lung cancer          162573006\n",
       "6                           Carcinoma in situ of lung           92649001\n",
       "7        Family history of malignant neoplasm of lung          429011007\n",
       "8          Secondary malignant neoplasm of right lung    353561000119103\n",
       "9           Secondary malignant neoplasm of left lung    353741000119106\n",
       "10           Primary malignant neoplasm of right lung          890529001\n",
       "11            Primary malignant neoplasm of left lung          890528009\n",
       "12               History of cancer metastatic to lung   1098961000119105\n",
       "13                     Lung cancer screening declined  13015001000119105\n",
       "14                         Non-small cell lung cancer          254637007\n",
       "15              Metastatic non-small cell lung cancer    457721000124104\n",
       "16  College of American Pathologists Cancer Checkl...          406067005\n",
       "17  College of American Pathologists Cancer Checkl...          406068000\n",
       "18  Epidermal growth factor receptor negative non-...          427038005\n",
       "19  Epidermal growth factor receptor positive non-...          426964009\n",
       "20  History of non-small cell malignant neoplasm o...          429226001\n",
       "21                Squamous non-small cell lung cancer          723301009\n",
       "22  Secondary undifferentiated large cell carcinom...    105051000119106\n",
       "23     Non-small cell lung carcinoma with NRG1 fusion         1141627001\n",
       "24  Non-small cell lung cancer with mutation in ep...          703228009"
      ]
     },
     "execution_count": 58,
     "metadata": {},
     "output_type": "execute_result"
    }
   ],
   "source": [
    "df = pd.DataFrame(list(zip(synonyms_list, ui_list)),\n",
    "               columns =['Name', 'UI'])\n",
    "df"
   ]
  },
  {
   "cell_type": "code",
   "execution_count": 64,
   "id": "2e0b0638",
   "metadata": {},
   "outputs": [
    {
     "name": "stdout",
     "output_type": "stream",
     "text": [
      "https://uts-ws.nlm.nih.gov/rest/content/current/source/SNOMEDCT_US/162573006/ancestors?ticket=ST-32527796-zw96IplLKpkOz3ciHWd5-cas\n"
     ]
    }
   ],
   "source": [
    "service=\"http://umlsks.nlm.nih.gov\"\n",
    "params = {'service': service}\n",
    "h = {\"Content-type\": \"application/x-www-form-urlencoded\", \"Accept\": \"text/plain\", \"User-Agent\":\"python\" }\n",
    "r = requests.post(tgt,data=params,headers=h)\n",
    "st = r.text\n",
    "base_url = 'https://uts-ws.nlm.nih.gov/rest/content/current/source/SNOMEDCT_US/'+'162573006'+'/ancestors?ticket='+st\n",
    "print(base_url)\n",
    "r = requests.get(base_url)\n",
    "data = r.json()\n",
    "jtopy=json.dumps(data)\n",
    "dict_json=json.loads(jtopy)"
   ]
  },
  {
   "cell_type": "code",
   "execution_count": 68,
   "id": "258a83a7",
   "metadata": {},
   "outputs": [
    {
     "name": "stdout",
     "output_type": "stream",
     "text": [
      "SNOMED CT Concept\n",
      "Suspected malignancy\n",
      "Situation with explicit context\n",
      "Suspected respiratory disease\n",
      "Finding with explicit context\n",
      "Disease suspected\n",
      "Possible clinical finding\n",
      "Suspected clinical finding\n"
     ]
    }
   ],
   "source": [
    "n = len(dict_json['result'])\n",
    "i = 0 \n",
    "while (i < n ):\n",
    "    print(dict_json['result'][i]['name'])\n",
    "    i=i+1"
   ]
  },
  {
   "cell_type": "code",
   "execution_count": 77,
   "id": "e80167af",
   "metadata": {},
   "outputs": [
    {
     "name": "stdout",
     "output_type": "stream",
     "text": [
      "https://uts-ws.nlm.nih.gov/rest/content/current/source/SNOMEDCT_US/162573006/parents?ticket=ST-32533858-5fsdtO3NoR1PPL3lIf94-cas\n"
     ]
    }
   ],
   "source": [
    "service=\"http://umlsks.nlm.nih.gov\"\n",
    "params = {'service': service}\n",
    "h = {\"Content-type\": \"application/x-www-form-urlencoded\", \"Accept\": \"text/plain\", \"User-Agent\":\"python\" }\n",
    "r = requests.post(tgt,data=params,headers=h)\n",
    "st = r.text\n",
    "child = '162573006'\n",
    "base_url = 'https://uts-ws.nlm.nih.gov/rest/content/current/source/SNOMEDCT_US/'+'162573006'+'/parents?ticket='+st\n",
    "print(base_url)\n",
    "r = requests.get(base_url)\n",
    "data = r.json()\n",
    "jtopy=json.dumps(data)\n",
    "dict_json=json.loads(jtopy)"
   ]
  },
  {
   "cell_type": "code",
   "execution_count": 78,
   "id": "c9c203d8",
   "metadata": {},
   "outputs": [],
   "source": [
    "n = len(dict_json['result'])\n",
    "i = 0 \n",
    "parents1_list = []\n",
    "ui1_list = []\n",
    "child1_list= []\n",
    "while (i < n ):\n",
    "    parents = dict_json['result'][i]['name']\n",
    "    ui = dict_json['result'][0]['ui']\n",
    "    parents1_list.append(parents)\n",
    "    ui1_list.append(ui)\n",
    "    child1_list.append(child)\n",
    "    i=i+1"
   ]
  },
  {
   "cell_type": "code",
   "execution_count": 79,
   "id": "b5affa8c",
   "metadata": {},
   "outputs": [
    {
     "data": {
      "text/html": [
       "<div>\n",
       "<style scoped>\n",
       "    .dataframe tbody tr th:only-of-type {\n",
       "        vertical-align: middle;\n",
       "    }\n",
       "\n",
       "    .dataframe tbody tr th {\n",
       "        vertical-align: top;\n",
       "    }\n",
       "\n",
       "    .dataframe thead th {\n",
       "        text-align: right;\n",
       "    }\n",
       "</style>\n",
       "<table border=\"1\" class=\"dataframe\">\n",
       "  <thead>\n",
       "    <tr style=\"text-align: right;\">\n",
       "      <th></th>\n",
       "      <th>Name</th>\n",
       "      <th>UI</th>\n",
       "      <th>Child</th>\n",
       "    </tr>\n",
       "  </thead>\n",
       "  <tbody>\n",
       "    <tr>\n",
       "      <th>0</th>\n",
       "      <td>Suspected malignancy</td>\n",
       "      <td>162572001</td>\n",
       "      <td>162573006</td>\n",
       "    </tr>\n",
       "    <tr>\n",
       "      <th>1</th>\n",
       "      <td>Suspected respiratory disease</td>\n",
       "      <td>162572001</td>\n",
       "      <td>162573006</td>\n",
       "    </tr>\n",
       "  </tbody>\n",
       "</table>\n",
       "</div>"
      ],
      "text/plain": [
       "                            Name         UI      Child\n",
       "0           Suspected malignancy  162572001  162573006\n",
       "1  Suspected respiratory disease  162572001  162573006"
      ]
     },
     "execution_count": 79,
     "metadata": {},
     "output_type": "execute_result"
    }
   ],
   "source": [
    "df = pd.DataFrame(list(zip(parents1_list, ui1_list,child1_list)),\n",
    "               columns =['Name', 'UI','Child'])\n",
    "df"
   ]
  }
 ],
 "metadata": {
  "kernelspec": {
   "display_name": "Python 3 (ipykernel)",
   "language": "python",
   "name": "python3"
  },
  "language_info": {
   "codemirror_mode": {
    "name": "ipython",
    "version": 3
   },
   "file_extension": ".py",
   "mimetype": "text/x-python",
   "name": "python",
   "nbconvert_exporter": "python",
   "pygments_lexer": "ipython3",
   "version": "3.9.6"
  }
 },
 "nbformat": 4,
 "nbformat_minor": 5
}
