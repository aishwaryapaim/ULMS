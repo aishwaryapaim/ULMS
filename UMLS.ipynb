{
 "cells": [
  {
   "cell_type": "code",
   "execution_count": 1,
   "id": "9087cac9",
   "metadata": {},
   "outputs": [],
   "source": [
    "import requests\n",
    "import json\n",
    "import pandas as pd\n",
    "import xmltodict\n",
    "from lxml.html import fromstring"
   ]
  },
  {
   "cell_type": "code",
   "execution_count": 2,
   "id": "d383c7ae",
   "metadata": {},
   "outputs": [],
   "source": [
    "api_key = 'b97fa897-104d-4139-a516-47d8c31dbfee'\n",
    "uri=\"https://utslogin.nlm.nih.gov\""
   ]
  },
  {
   "cell_type": "code",
   "execution_count": 3,
   "id": "6121ca60",
   "metadata": {},
   "outputs": [
    {
     "data": {
      "text/plain": [
       "'https://utslogin.nlm.nih.gov/cas/v1/api-key/TGT-56931-b2dGD6csywmFUMCrtkcPeomno3RDxgh5tOqyTXgueA4LyxFkCN-cas'"
      ]
     },
     "execution_count": 3,
     "metadata": {},
     "output_type": "execute_result"
    }
   ],
   "source": [
    "h = {\"Content-type\": \"application/x-www-form-urlencoded\", \"Accept\": \"text/plain\", \"User-Agent\":\"python\" }\n",
    "params = {'apikey': api_key}\n",
    "auth_endpoint = \"/cas/v1/api-key\"\n",
    "r = requests.post(uri+auth_endpoint,data=params,headers=h,verify=False)\n",
    "response = fromstring(r.text)\n",
    "tgt = response.xpath('//form/@action')[0]\n",
    "\n",
    "tgt"
   ]
  },
  {
   "cell_type": "code",
   "execution_count": 4,
   "id": "37fb2afd",
   "metadata": {},
   "outputs": [
    {
     "data": {
      "text/plain": [
       "'ST-565805-vEqRkQvKNoeogoTSNsXe-cas'"
      ]
     },
     "execution_count": 4,
     "metadata": {},
     "output_type": "execute_result"
    }
   ],
   "source": [
    "service=\"http://umlsks.nlm.nih.gov\"\n",
    "params = {'service': service}\n",
    "h = {\"Content-type\": \"application/x-www-form-urlencoded\", \"Accept\": \"text/plain\", \"User-Agent\":\"python\" }\n",
    "r = requests.post(tgt,data=params,headers=h,verify=False)\n",
    "st = r.text\n",
    "st\n",
    "\n"
   ]
  },
  {
   "cell_type": "code",
   "execution_count": 5,
   "id": "97c649b2",
   "metadata": {},
   "outputs": [
    {
     "name": "stdout",
     "output_type": "stream",
     "text": [
      "https://uts-ws.nlm.nih.gov/rest/search/current?string=Lung Cancer&pageNumber=1&sabs=SNOMEDCT_US&returnIdType=sourceUi&sinputType=atom&includeObsolete=false&ticket=ST-565817-7abvx53P4m2tEzbRMSKG-cas\n"
     ]
    }
   ],
   "source": [
    "service=\"http://umlsks.nlm.nih.gov\"\n",
    "params = {'service': service}\n",
    "h = {\"Content-type\": \"application/x-www-form-urlencoded\", \"Accept\": \"text/plain\", \"User-Agent\":\"python\" }\n",
    "r = requests.post(tgt,data=params,headers=h,verify=False)\n",
    "st = r.text\n",
    "base_url = \"https://uts-ws.nlm.nih.gov/rest/search/current?string=Lung Cancer&pageNumber=1&sabs=SNOMEDCT_US&returnIdType=sourceUi&sinputType=atom&includeObsolete=false&ticket=\"+st\n",
    "print(base_url)\n",
    "r = requests.get(base_url,verify=False)\n",
    "data = r.json()\n",
    "jtopy=json.dumps(data)\n",
    "dict_json=json.loads(jtopy)"
   ]
  },
  {
   "cell_type": "code",
   "execution_count": 8,
   "id": "e9630341",
   "metadata": {},
   "outputs": [],
   "source": [
    "n = len(dict_json['result']['results'])\n",
    "i = 0\n",
    "synonyms_list = []\n",
    "ui_list = []\n",
    "while (i < n):\n",
    "    Synonyms  = str(dict_json['result']['results'][i]['name'])\n",
    "    ui = str(dict_json['result']['results'][i]['ui'])\n",
    "    synonyms_list.append(Synonyms)\n",
    "    ui_list.append(ui)\n",
    "    i=i+1"
   ]
  },
  {
   "cell_type": "code",
   "execution_count": null,
   "id": "39639329",
   "metadata": {},
   "outputs": [],
   "source": []
  },
  {
   "cell_type": "code",
   "execution_count": 9,
   "id": "1ef3055f",
   "metadata": {},
   "outputs": [
    {
     "data": {
      "text/html": [
       "<div>\n",
       "<style scoped>\n",
       "    .dataframe tbody tr th:only-of-type {\n",
       "        vertical-align: middle;\n",
       "    }\n",
       "\n",
       "    .dataframe tbody tr th {\n",
       "        vertical-align: top;\n",
       "    }\n",
       "\n",
       "    .dataframe thead th {\n",
       "        text-align: right;\n",
       "    }\n",
       "</style>\n",
       "<table border=\"1\" class=\"dataframe\">\n",
       "  <thead>\n",
       "    <tr style=\"text-align: right;\">\n",
       "      <th></th>\n",
       "      <th>Name</th>\n",
       "      <th>UI</th>\n",
       "    </tr>\n",
       "  </thead>\n",
       "  <tbody>\n",
       "    <tr>\n",
       "      <th>0</th>\n",
       "      <td>Primary malignant neoplasm of lung</td>\n",
       "      <td>93880001</td>\n",
       "    </tr>\n",
       "    <tr>\n",
       "      <th>1</th>\n",
       "      <td>Small cell carcinoma of lung</td>\n",
       "      <td>254632001</td>\n",
       "    </tr>\n",
       "    <tr>\n",
       "      <th>2</th>\n",
       "      <td>Secondary malignant neoplasm of lung</td>\n",
       "      <td>94391008</td>\n",
       "    </tr>\n",
       "    <tr>\n",
       "      <th>3</th>\n",
       "      <td>Malignant tumor of lung</td>\n",
       "      <td>363358000</td>\n",
       "    </tr>\n",
       "    <tr>\n",
       "      <th>4</th>\n",
       "      <td>Lung cancer screening</td>\n",
       "      <td>724167008</td>\n",
       "    </tr>\n",
       "    <tr>\n",
       "      <th>5</th>\n",
       "      <td>Suspected lung cancer</td>\n",
       "      <td>162573006</td>\n",
       "    </tr>\n",
       "    <tr>\n",
       "      <th>6</th>\n",
       "      <td>Carcinoma in situ of lung</td>\n",
       "      <td>92649001</td>\n",
       "    </tr>\n",
       "    <tr>\n",
       "      <th>7</th>\n",
       "      <td>Family history of malignant neoplasm of lung</td>\n",
       "      <td>429011007</td>\n",
       "    </tr>\n",
       "    <tr>\n",
       "      <th>8</th>\n",
       "      <td>Secondary malignant neoplasm of right lung</td>\n",
       "      <td>353561000119103</td>\n",
       "    </tr>\n",
       "    <tr>\n",
       "      <th>9</th>\n",
       "      <td>Secondary malignant neoplasm of left lung</td>\n",
       "      <td>353741000119106</td>\n",
       "    </tr>\n",
       "    <tr>\n",
       "      <th>10</th>\n",
       "      <td>Primary malignant neoplasm of right lung</td>\n",
       "      <td>890529001</td>\n",
       "    </tr>\n",
       "    <tr>\n",
       "      <th>11</th>\n",
       "      <td>Primary malignant neoplasm of left lung</td>\n",
       "      <td>890528009</td>\n",
       "    </tr>\n",
       "    <tr>\n",
       "      <th>12</th>\n",
       "      <td>History of cancer metastatic to lung</td>\n",
       "      <td>1098961000119105</td>\n",
       "    </tr>\n",
       "    <tr>\n",
       "      <th>13</th>\n",
       "      <td>Lung cancer screening declined</td>\n",
       "      <td>13015001000119105</td>\n",
       "    </tr>\n",
       "    <tr>\n",
       "      <th>14</th>\n",
       "      <td>Non-small cell lung cancer</td>\n",
       "      <td>254637007</td>\n",
       "    </tr>\n",
       "    <tr>\n",
       "      <th>15</th>\n",
       "      <td>Metastatic non-small cell lung cancer</td>\n",
       "      <td>457721000124104</td>\n",
       "    </tr>\n",
       "    <tr>\n",
       "      <th>16</th>\n",
       "      <td>College of American Pathologists Cancer Checkl...</td>\n",
       "      <td>406067005</td>\n",
       "    </tr>\n",
       "    <tr>\n",
       "      <th>17</th>\n",
       "      <td>College of American Pathologists Cancer Checkl...</td>\n",
       "      <td>406068000</td>\n",
       "    </tr>\n",
       "    <tr>\n",
       "      <th>18</th>\n",
       "      <td>Epidermal growth factor receptor negative non-...</td>\n",
       "      <td>427038005</td>\n",
       "    </tr>\n",
       "    <tr>\n",
       "      <th>19</th>\n",
       "      <td>Epidermal growth factor receptor positive non-...</td>\n",
       "      <td>426964009</td>\n",
       "    </tr>\n",
       "    <tr>\n",
       "      <th>20</th>\n",
       "      <td>History of non-small cell malignant neoplasm o...</td>\n",
       "      <td>429226001</td>\n",
       "    </tr>\n",
       "    <tr>\n",
       "      <th>21</th>\n",
       "      <td>Squamous non-small cell lung cancer</td>\n",
       "      <td>723301009</td>\n",
       "    </tr>\n",
       "    <tr>\n",
       "      <th>22</th>\n",
       "      <td>Secondary undifferentiated large cell carcinom...</td>\n",
       "      <td>105051000119106</td>\n",
       "    </tr>\n",
       "    <tr>\n",
       "      <th>23</th>\n",
       "      <td>Non-small cell lung carcinoma with NRG1 fusion</td>\n",
       "      <td>1141627001</td>\n",
       "    </tr>\n",
       "    <tr>\n",
       "      <th>24</th>\n",
       "      <td>Non-small cell lung cancer with mutation in ep...</td>\n",
       "      <td>703228009</td>\n",
       "    </tr>\n",
       "  </tbody>\n",
       "</table>\n",
       "</div>"
      ],
      "text/plain": [
       "                                                 Name                 UI\n",
       "0                  Primary malignant neoplasm of lung           93880001\n",
       "1                        Small cell carcinoma of lung          254632001\n",
       "2                Secondary malignant neoplasm of lung           94391008\n",
       "3                             Malignant tumor of lung          363358000\n",
       "4                               Lung cancer screening          724167008\n",
       "5                               Suspected lung cancer          162573006\n",
       "6                           Carcinoma in situ of lung           92649001\n",
       "7        Family history of malignant neoplasm of lung          429011007\n",
       "8          Secondary malignant neoplasm of right lung    353561000119103\n",
       "9           Secondary malignant neoplasm of left lung    353741000119106\n",
       "10           Primary malignant neoplasm of right lung          890529001\n",
       "11            Primary malignant neoplasm of left lung          890528009\n",
       "12               History of cancer metastatic to lung   1098961000119105\n",
       "13                     Lung cancer screening declined  13015001000119105\n",
       "14                         Non-small cell lung cancer          254637007\n",
       "15              Metastatic non-small cell lung cancer    457721000124104\n",
       "16  College of American Pathologists Cancer Checkl...          406067005\n",
       "17  College of American Pathologists Cancer Checkl...          406068000\n",
       "18  Epidermal growth factor receptor negative non-...          427038005\n",
       "19  Epidermal growth factor receptor positive non-...          426964009\n",
       "20  History of non-small cell malignant neoplasm o...          429226001\n",
       "21                Squamous non-small cell lung cancer          723301009\n",
       "22  Secondary undifferentiated large cell carcinom...    105051000119106\n",
       "23     Non-small cell lung carcinoma with NRG1 fusion         1141627001\n",
       "24  Non-small cell lung cancer with mutation in ep...          703228009"
      ]
     },
     "execution_count": 9,
     "metadata": {},
     "output_type": "execute_result"
    }
   ],
   "source": [
    "df = pd.DataFrame(list(zip(synonyms_list, ui_list)),\n",
    "               columns =['Name', 'UI'])\n",
    "df"
   ]
  },
  {
   "cell_type": "code",
   "execution_count": 10,
   "id": "4b51a629",
   "metadata": {},
   "outputs": [
    {
     "name": "stdout",
     "output_type": "stream",
     "text": [
      "https://uts-ws.nlm.nih.gov/rest/content/current/source/SNOMEDCT_US/162573006/ancestors?ticket=ST-565843-2WoHhHxmXOFHcgQ5TICg-cas\n"
     ]
    }
   ],
   "source": [
    "service=\"http://umlsks.nlm.nih.gov\"\n",
    "params = {'service': service}\n",
    "h = {\"Content-type\": \"application/x-www-form-urlencoded\", \"Accept\": \"text/plain\", \"User-Agent\":\"python\" }\n",
    "r = requests.post(tgt,data=params,headers=h,verify=False)\n",
    "st = r.text\n",
    "base_url = 'https://uts-ws.nlm.nih.gov/rest/content/current/source/SNOMEDCT_US/'+'162573006'+'/ancestors?ticket='+st\n",
    "print(base_url)\n",
    "r = requests.get(base_url,verify=False)\n",
    "data = r.json()\n",
    "jtopy=json.dumps(data)\n",
    "dict_json=json.loads(jtopy)"
   ]
  },
  {
   "cell_type": "code",
   "execution_count": 11,
   "id": "a08e3548",
   "metadata": {},
   "outputs": [
    {
     "name": "stdout",
     "output_type": "stream",
     "text": [
      "SNOMED CT Concept\n",
      "Suspected malignancy\n",
      "Situation with explicit context\n",
      "Suspected respiratory disease\n",
      "Finding with explicit context\n",
      "Disease suspected\n",
      "Possible clinical finding\n",
      "Suspected clinical finding\n"
     ]
    }
   ],
   "source": [
    "n = len(dict_json['result'])\n",
    "i = 0 \n",
    "while (i < n ):\n",
    "    print(dict_json['result'][i]['name'])\n",
    "    i=i+1"
   ]
  },
  {
   "cell_type": "code",
   "execution_count": 12,
   "id": "5c4843ab",
   "metadata": {},
   "outputs": [
    {
     "name": "stdout",
     "output_type": "stream",
     "text": [
      "https://uts-ws.nlm.nih.gov/rest/content/current/source/SNOMEDCT_US/93880001/parents?ticket=ST-565873-ISPqZhx9o54njCNit0Vk-cas\n"
     ]
    }
   ],
   "source": [
    "service=\"http://umlsks.nlm.nih.gov\"\n",
    "params = {'service': service}\n",
    "h = {\"Content-type\": \"application/x-www-form-urlencoded\", \"Accept\": \"text/plain\", \"User-Agent\":\"python\" }\n",
    "r = requests.post(tgt,data=params,headers=h,verify=False)\n",
    "st = r.text\n",
    "child = '93880001'\n",
    "base_url = 'https://uts-ws.nlm.nih.gov/rest/content/current/source/SNOMEDCT_US/'+child+'/parents?ticket='+st\n",
    "print(base_url)\n",
    "r = requests.get(base_url,verify=False)\n",
    "data = r.json()\n",
    "jtopy=json.dumps(data)\n",
    "dict_json=json.loads(jtopy)"
   ]
  },
  {
   "cell_type": "code",
   "execution_count": 13,
   "id": "5331f7b0",
   "metadata": {},
   "outputs": [],
   "source": [
    "n = len(dict_json['result'])\n",
    "i = 0 \n",
    "parents1_list = []\n",
    "ui1_list = []\n",
    "child1_list= []\n",
    "while (i < n ):\n",
    "    parents = dict_json['result'][i]['name']\n",
    "    ui = dict_json['result'][i]['ui']\n",
    "    parents1_list.append(parents)\n",
    "    ui1_list.append(ui)\n",
    "    child1_list.append(child)\n",
    "    i=i+1"
   ]
  },
  {
   "cell_type": "code",
   "execution_count": 14,
   "id": "5715f192",
   "metadata": {},
   "outputs": [
    {
     "data": {
      "text/html": [
       "<div>\n",
       "<style scoped>\n",
       "    .dataframe tbody tr th:only-of-type {\n",
       "        vertical-align: middle;\n",
       "    }\n",
       "\n",
       "    .dataframe tbody tr th {\n",
       "        vertical-align: top;\n",
       "    }\n",
       "\n",
       "    .dataframe thead th {\n",
       "        text-align: right;\n",
       "    }\n",
       "</style>\n",
       "<table border=\"1\" class=\"dataframe\">\n",
       "  <thead>\n",
       "    <tr style=\"text-align: right;\">\n",
       "      <th></th>\n",
       "      <th>Parent_Name</th>\n",
       "      <th>Parent</th>\n",
       "      <th>Child</th>\n",
       "    </tr>\n",
       "  </thead>\n",
       "  <tbody>\n",
       "    <tr>\n",
       "      <th>0</th>\n",
       "      <td>Malignant tumor of lung</td>\n",
       "      <td>363358000</td>\n",
       "      <td>93880001</td>\n",
       "    </tr>\n",
       "    <tr>\n",
       "      <th>1</th>\n",
       "      <td>Primary malignant neoplasm of intrathoracic or...</td>\n",
       "      <td>93841009</td>\n",
       "      <td>93880001</td>\n",
       "    </tr>\n",
       "    <tr>\n",
       "      <th>2</th>\n",
       "      <td>Primary malignant neoplasm of respiratory tract</td>\n",
       "      <td>93986008</td>\n",
       "      <td>93880001</td>\n",
       "    </tr>\n",
       "  </tbody>\n",
       "</table>\n",
       "</div>"
      ],
      "text/plain": [
       "                                         Parent_Name     Parent     Child\n",
       "0                            Malignant tumor of lung  363358000  93880001\n",
       "1  Primary malignant neoplasm of intrathoracic or...   93841009  93880001\n",
       "2    Primary malignant neoplasm of respiratory tract   93986008  93880001"
      ]
     },
     "execution_count": 14,
     "metadata": {},
     "output_type": "execute_result"
    }
   ],
   "source": [
    "df = pd.DataFrame(list(zip(parents1_list, ui1_list,child1_list)),\n",
    "               columns =['Parent_Name', 'Parent','Child'])\n",
    "df"
   ]
  },
  {
   "cell_type": "code",
   "execution_count": 15,
   "id": "d0f890a4",
   "metadata": {},
   "outputs": [
    {
     "name": "stdout",
     "output_type": "stream",
     "text": [
      "https://uts-ws.nlm.nih.gov/rest/content/current/source/SNOMEDCT_US/363358000/parents?ticket=ST-565902-BZ3Reg47eiEKp9OnRfVW-cas\n",
      "3\n",
      "https://uts-ws.nlm.nih.gov/rest/content/current/source/SNOMEDCT_US/93841009/parents?ticket=ST-565940-rXED9AaQS6XdZnt9hP74-cas\n",
      "3\n",
      "https://uts-ws.nlm.nih.gov/rest/content/current/source/SNOMEDCT_US/93986008/parents?ticket=ST-565964-lFzuHyrSJpshTtjacavJ-cas\n",
      "3\n"
     ]
    }
   ],
   "source": [
    "parents2_list = []\n",
    "ui2_list = []\n",
    "child2_list= []\n",
    "service=\"http://umlsks.nlm.nih.gov\"\n",
    "params = {'service': service}\n",
    "h = {\"Content-type\": \"application/x-www-form-urlencoded\", \"Accept\": \"text/plain\", \"User-Agent\":\"python\" }\n",
    "for i in ui1_list:\n",
    "    r = requests.post(tgt,data=params,headers=h,verify=False)\n",
    "    st = r.text\n",
    "    base_url = 'https://uts-ws.nlm.nih.gov/rest/content/current/source/SNOMEDCT_US/'+i+'/parents?ticket='+st\n",
    "    print(base_url)\n",
    "    r = requests.get(base_url,verify=False)\n",
    "    data = r.json()\n",
    "    jtopy=json.dumps(data)\n",
    "    dict_json=json.loads(jtopy)\n",
    "    \n",
    "    n = len(dict_json['result'])\n",
    "    print(n)\n",
    "    j = 0 \n",
    "    \n",
    "    while (j < n ):\n",
    "        parents = dict_json['result'][j]['name']\n",
    "        ui = dict_json['result'][j]['ui']\n",
    "        parents2_list.append(parents)\n",
    "        ui2_list.append(ui)\n",
    "        child2_list.append(i)\n",
    "        j=j+1\n"
   ]
  },
  {
   "cell_type": "code",
   "execution_count": 16,
   "id": "1b46fdc2",
   "metadata": {},
   "outputs": [
    {
     "data": {
      "text/html": [
       "<div>\n",
       "<style scoped>\n",
       "    .dataframe tbody tr th:only-of-type {\n",
       "        vertical-align: middle;\n",
       "    }\n",
       "\n",
       "    .dataframe tbody tr th {\n",
       "        vertical-align: top;\n",
       "    }\n",
       "\n",
       "    .dataframe thead th {\n",
       "        text-align: right;\n",
       "    }\n",
       "</style>\n",
       "<table border=\"1\" class=\"dataframe\">\n",
       "  <thead>\n",
       "    <tr style=\"text-align: right;\">\n",
       "      <th></th>\n",
       "      <th>Parent_Name</th>\n",
       "      <th>Parent</th>\n",
       "      <th>Child</th>\n",
       "    </tr>\n",
       "  </thead>\n",
       "  <tbody>\n",
       "    <tr>\n",
       "      <th>0</th>\n",
       "      <td>Neoplasm of lung</td>\n",
       "      <td>126713003</td>\n",
       "      <td>363358000</td>\n",
       "    </tr>\n",
       "    <tr>\n",
       "      <th>1</th>\n",
       "      <td>Malignant neoplasm of thorax</td>\n",
       "      <td>188361007</td>\n",
       "      <td>363358000</td>\n",
       "    </tr>\n",
       "    <tr>\n",
       "      <th>2</th>\n",
       "      <td>Malignant neoplasm of lower respiratory tract</td>\n",
       "      <td>430621000</td>\n",
       "      <td>363358000</td>\n",
       "    </tr>\n",
       "    <tr>\n",
       "      <th>3</th>\n",
       "      <td>Neoplasm of intrathoracic organs</td>\n",
       "      <td>126638003</td>\n",
       "      <td>93841009</td>\n",
       "    </tr>\n",
       "    <tr>\n",
       "      <th>4</th>\n",
       "      <td>Malignant neoplasm of thorax</td>\n",
       "      <td>188361007</td>\n",
       "      <td>93841009</td>\n",
       "    </tr>\n",
       "    <tr>\n",
       "      <th>5</th>\n",
       "      <td>Primary malignant neoplasm of trunk</td>\n",
       "      <td>94111002</td>\n",
       "      <td>93841009</td>\n",
       "    </tr>\n",
       "    <tr>\n",
       "      <th>6</th>\n",
       "      <td>Neoplasm of respiratory tract</td>\n",
       "      <td>126667002</td>\n",
       "      <td>93986008</td>\n",
       "    </tr>\n",
       "    <tr>\n",
       "      <th>7</th>\n",
       "      <td>Primary malignant neoplasm</td>\n",
       "      <td>372087000</td>\n",
       "      <td>93986008</td>\n",
       "    </tr>\n",
       "    <tr>\n",
       "      <th>8</th>\n",
       "      <td>Malignant neoplasm of respiratory system</td>\n",
       "      <td>449096009</td>\n",
       "      <td>93986008</td>\n",
       "    </tr>\n",
       "  </tbody>\n",
       "</table>\n",
       "</div>"
      ],
      "text/plain": [
       "                                     Parent_Name     Parent      Child\n",
       "0                               Neoplasm of lung  126713003  363358000\n",
       "1                   Malignant neoplasm of thorax  188361007  363358000\n",
       "2  Malignant neoplasm of lower respiratory tract  430621000  363358000\n",
       "3               Neoplasm of intrathoracic organs  126638003   93841009\n",
       "4                   Malignant neoplasm of thorax  188361007   93841009\n",
       "5            Primary malignant neoplasm of trunk   94111002   93841009\n",
       "6                  Neoplasm of respiratory tract  126667002   93986008\n",
       "7                     Primary malignant neoplasm  372087000   93986008\n",
       "8       Malignant neoplasm of respiratory system  449096009   93986008"
      ]
     },
     "execution_count": 16,
     "metadata": {},
     "output_type": "execute_result"
    }
   ],
   "source": [
    "df = pd.DataFrame(list(zip(parents2_list, ui2_list,child2_list)),\n",
    "               columns =['Parent_Name', 'Parent','Child'])\n",
    "df"
   ]
  },
  {
   "cell_type": "code",
   "execution_count": null,
   "id": "9bf0d6d2",
   "metadata": {},
   "outputs": [],
   "source": []
  }
 ],
 "metadata": {
  "kernelspec": {
   "display_name": "Python 3 (ipykernel)",
   "language": "python",
   "name": "python3"
  },
  "language_info": {
   "codemirror_mode": {
    "name": "ipython",
    "version": 3
   },
   "file_extension": ".py",
   "mimetype": "text/x-python",
   "name": "python",
   "nbconvert_exporter": "python",
   "pygments_lexer": "ipython3",
   "version": "3.9.6"
  }
 },
 "nbformat": 4,
 "nbformat_minor": 5
}
